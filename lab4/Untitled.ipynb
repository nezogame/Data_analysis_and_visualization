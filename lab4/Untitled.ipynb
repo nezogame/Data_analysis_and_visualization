{
 "cells": [
  {
   "cell_type": "markdown",
   "id": "50ac981a-5f02-4f16-856a-06cacf17c05b",
   "metadata": {},
   "source": [
    "# Importing libraries"
   ]
  },
  {
   "cell_type": "code",
   "execution_count": 1,
   "id": "bc4efb84-759c-4529-b423-4cf8e1f5448f",
   "metadata": {},
   "outputs": [],
   "source": [
    "import pandas as pd\n",
    "import numpy as np\n",
    "import matplotlib.pyplot as plt\n",
    "import seaborn as sns\n",
    "import os\n",
    "from scipy import stats"
   ]
  },
  {
   "cell_type": "markdown",
   "id": "8a5be6f9-9453-460e-b67d-0f40caf3a786",
   "metadata": {},
   "source": [
    "## 1.Завантаження залежних та незалежних вибірок з текстових файлів. "
   ]
  },
  {
   "cell_type": "code",
   "execution_count": 2,
   "id": "f95aae76-15f9-4ddf-8606-ad4c7110bb7b",
   "metadata": {},
   "outputs": [
    {
     "name": "stdout",
     "output_type": "stream",
     "text": [
      "         x         y\n",
      "0  21.5447  134.3021\n",
      "1  18.1367  130.5072\n",
      "2  13.3060  132.6800\n",
      "3  -2.4954  131.8808\n",
      "4  20.9216  133.8112\n"
     ]
    },
    {
     "data": {
      "text/plain": [
       "array([[<Axes: title={'center': 'x'}>, <Axes: title={'center': 'y'}>]],\n",
       "      dtype=object)"
      ]
     },
     "execution_count": 2,
     "metadata": {},
     "output_type": "execute_result"
    },
    {
     "data": {
      "image/png": "[encoded data removed]",
      "text/plain": [
       "<Figure size 640x480 with 2 Axes>"
      ]
     },
     "metadata": {},
     "output_type": "display_data"
    }
   ],
   "source": [
    "path = \"../data_lab4/dep/nr.txt\"\n",
    "columns = ['x','y']\n",
    "df = pd.read_csv(path, delimiter=\" \", header=None, names=columns)\n",
    "word_to_check = \"indep\"\n",
    "normal:bool=None\n",
    "if word_to_check in path:\n",
    "    x_values = df[df['y'] == 0]['x'].reset_index(drop=True)\n",
    "    y_values = df[df['y'] == 1]['x'].reset_index(drop=True)\n",
    "    # Create a new DataFrame with 'x' and 'y' columns\n",
    "    df = pd.DataFrame({'x': x_values, 'y': y_values})\n",
    "    independent = True\n",
    "else:\n",
    "    independent = False    \n",
    "print(df.head())\n",
    "df.hist()"
   ]
  },
  {
   "cell_type": "markdown",
   "id": "3b2444f4-800d-45bb-97f3-95145a183e4e",
   "metadata": {},
   "source": [
    "## Creating class for calculation quantiles"
   ]
  },
  {
   "cell_type": "code",
   "execution_count": 3,
   "id": "a2e10ae4-6307-4246-becc-d2e1ed9f3b5a",
   "metadata": {},
   "outputs": [],
   "source": [
    "# Коефіцієнти для формули\n",
    "C0 = 2.515_517\n",
    "C1 = 0.802_853\n",
    "C2 = 0.010_328\n",
    "D1 = 1.432_788\n",
    "D2 = 0.189_265_9\n",
    "D3 = 0.001_308\n",
    "\n",
    "class Quantile:\n",
    "    \n",
    "    @classmethod\n",
    "    def calculate_quantile(cls, p):\n",
    "        if p > 0.5:\n",
    "            t = np.sqrt(-2 * np.log(1 - p))\n",
    "            quantile = (t - ((C0 + C1 * t + C2 * t ** 2) / (1 + D1 * t + D2 * t ** 2 + D3 * t ** 3)))\n",
    "        else:\n",
    "            t = np.sqrt(-2 * np.log(p))\n",
    "            quantile = -(t - ((C0 + C1 * t + C2 * t ** 2) / (1 + D1 * t + D2 * t ** 2 + D3 * t ** 3)))\n",
    "\n",
    "        return quantile\n",
    "        \n",
    "    @staticmethod\n",
    "    def student_quantile(p, v):\n",
    "        up = Quantile.calculate_quantile(p)\n",
    "        tpv = up + (1 / v) * (1 / 4) * (up ** 3 + up) + (1 / v ** 2) * (1 / 96) * (\n",
    "            5 * up ** 5 + 16 * up ** 3 + 3 * up) + (1 / v ** 3) * (1 / 384) * (\n",
    "                  3 * up ** 7 + 19 * up ** 5 + 17 * up ** 3 - 15 * up) + (1 / v ** 4) * (1 / 92_160) * (\n",
    "                  79 * up ** 9 + 779 * up ** 7 + 1_482 * up ** 5 - 1_920 * up ** 3 - 945 * up)\n",
    "        return tpv\n",
    "    \n",
    "    @staticmethod\n",
    "    def fisher_quantile(p ,v1, v2):\n",
    "        up = Quantile.calculate_quantile(p)   \n",
    "\n",
    "        sigma = 1/v1 + 1/v2\n",
    "        delta = 1/v1 - 1/v2\n",
    "        \n",
    "        z = (up * np.sqrt(sigma / 2) -\n",
    "         (1 / 6) * delta * (up**2 + 2) +\n",
    "         np.sqrt(sigma / 2) * (sigma / 24 * (up**2 + 3 * up) + (1 / 72) * (delta**2 / sigma) * (up**3 + 11 * up)) -\n",
    "         (sigma * delta / 120) * (up**4 + 9 * up**2 + 8) +\n",
    "         (delta**3 / (3240 * sigma)) * (3 * up**4 + 7 * up**2 - 16) +\n",
    "         np.sqrt(sigma / 2) * (sigma**2 / 1920 * (up**5 + 20 * up**3 + 15 * up)) +\n",
    "         (delta**4 / 2880) * (up**5 + 44 * up**3 + 183 * up) +\n",
    "         (delta**5 / (155520 * sigma**2)) * (9 * up**5 + 284 * up**3 + 1513 * up)\n",
    "        )\n",
    "\n",
    "        return np.exp(2*z)"
   ]
  },
  {
   "cell_type": "markdown",
   "id": "b7b2140e-548d-4096-bf51-8799afdcf926",
   "metadata": {},
   "source": [
    "## Критерії перевірки однорідності двох залежних вибірок: критерії перевірки рівності дисперсій та середніх + критерій знакових рангів Вілкоксона"
   ]
  },
  {
   "cell_type": "code",
   "execution_count": 4,
   "id": "038dd0cc-16e9-44ae-aad3-df71273725d8",
   "metadata": {},
   "outputs": [],
   "source": [
    "class DependentSamples:\n",
    "    @classmethod\n",
    "    def create_thrird_sample(cls, df):\n",
    "        df['z'] = df['x']-df['y']\n",
    "\n",
    "        z_mean = np.mean(df['z'])\n",
    "        z_std = np.std(df['z'], ddof=1)\n",
    "       \n",
    "        return DependentSamples.calculate_t(len(df)-1, z_mean, z_std)\n",
    "    \n",
    "    @classmethod\n",
    "    def calculate_t(cls, length, z_mean, z_std):\n",
    "        if z_mean==0 and z_std==0:\n",
    "            t=0\n",
    "        else:\n",
    "            t = z_mean*np.sqrt(length)/z_std\n",
    "        return DependentSamples.is_mean_equal(t, length-1)\n",
    "\n",
    "    @classmethod\n",
    "    def is_mean_equal(cls, t, n):\n",
    "        print('t equals: '+str(t))\n",
    "        print('Quantile: '+str(Quantile.student_quantile(1-0.05/2, n)))\n",
    "        return np.abs(t)<=Quantile.student_quantile(1-0.05/2, n)\n",
    "\n",
    "    # @classmethod\n",
    "    # def is_variances_equal(cls, t, n):\n",
    "    #     print('t equals: '+str(t))\n",
    "    #     print('Quantile: '+str(Quantile.student_quantile(1-0.05/2, n)))\n",
    "    #     return np.abs(t)<=Quantile.student_quantile(1-0.05/2, n)\n",
    "    \n",
    "    @classmethod\n",
    "    def calculate_statistic(cls, df):\n",
    "        squared_x_std = np.std(df['x'], ddof=1)**2\n",
    "        squared_y_std = np.std(df['y'], ddof=1)**2\n",
    "        if(squared_x_std>=squared_y_std):\n",
    "            f=squared_x_std/squared_y_std\n",
    "            v1 = df['x'].count() - 1\n",
    "            v2 = df['y'].count() - 1 \n",
    "        else:\n",
    "            f=squared_y_std/squared_x_std\n",
    "            v1 = df['y'].count() - 1 \n",
    "            v2 = df['x'].count() - 1\n",
    "        \n",
    "        #check is variances coincide\n",
    "        f_fisher = Quantile.fisher_quantile(0.95,v1,v2)\n",
    "        print('F:' +str(f))\n",
    "        print('F fisher:' +str(f_fisher))\n",
    "        return f<=f_fisher\n",
    "\n",
    "    @classmethod\n",
    "    def create_sample_signs_ranks(cls, df):\n",
    "        df['z'] = df['x']-df['y']\n",
    "\n",
    "        df['s'] = [1 if z > 0 else 0 if z < 0 else None for z in df['z']]\n",
    "        df.dropna()\n",
    "        df['|z|'] = [np.abs(x) for x in df['z']]\n",
    "        df['r'] = df['|z|'].rank()\n",
    "        df['s*r'] = df['r']*df['s']\n",
    "        t = sum( df['s*r'])\n",
    "        return t\n",
    "        \n",
    "    @classmethod\n",
    "    def calculate_standardized_statistics_u(cls, n, t):\n",
    "        et=1/4*n*(n+1)\n",
    "        dt=1/24*n*(n+1)*(2*n+1)\n",
    "        return (t-et)/(np.sqrt(dt))\n",
    "        \n",
    "\n",
    "    @classmethod\n",
    "    def is_functions_shifted(cls, u):\n",
    "        return np.abs(u)>Quantile.calculate_quantile(1-0.05/2)\n",
    "        \n",
    "    @staticmethod\n",
    "    def check_for_homogeneity(df):\n",
    "        mean_equal = DependentSamples.create_thrird_sample(df)\n",
    "        varians_equal = DependentSamples.calculate_statistic(df)\n",
    "        print('Is mean equals: '+str(mean_equal))\n",
    "        print('Is varians equals: '+str(varians_equal))\n",
    "\n",
    "    @staticmethod\n",
    "    def check_for_homogeneity(df):\n",
    "        mean_equal = DependentSamples.create_thrird_sample(df)\n",
    "        varians_equal = DependentSamples.calculate_statistic(df)\n",
    "        print('Is mean equals: '+str(mean_equal))\n",
    "        print('Is varians equals: '+str(varians_equal))\n",
    "        if mean_equal and varians_equal:\n",
    "            print('homogeneous sample')\n",
    "        else:\n",
    "            print('NOT homogeneous sample')\n",
    "\n",
    "    @staticmethod\n",
    "    def calculate_rank_with_wilcoxon(df):\n",
    "        res = DependentSamples.create_sample_signs_ranks(df)\n",
    "            \n",
    "        return res"
   ]
  },
  {
   "cell_type": "markdown",
   "id": "a8615583-00e5-4182-b458-9ad02f6f5173",
   "metadata": {},
   "source": [
    "#### Test"
   ]
  },
  {
   "cell_type": "code",
   "execution_count": 5,
   "id": "548b86f4-92cf-4b6b-8dc4-8296ef8cc3a1",
   "metadata": {},
   "outputs": [
    {
     "name": "stdout",
     "output_type": "stream",
     "text": [
      "t equals: -108.7788197796626\n",
      "Quantile: 1.996457126547252\n",
      "F:29.825274128333508\n",
      "F fisher:1.493775767083493\n",
      "Is mean equals: False\n",
      "Is varians equals: False\n",
      "NOT homogeneous sample\n",
      "u equals: -7.219577699441525\n",
      "quantile equals: 1.960392179315197\n",
      "is sfit present: True\n"
     ]
    }
   ],
   "source": [
    "DependentSamples.check_for_homogeneity(df)\n",
    "t = DependentSamples.calculate_rank_with_wilcoxon(df)\n",
    "u = DependentSamples.calculate_standardized_statistics_u(df['x'].count(),t)\n",
    "print('u equals: '+str(u))\n",
    "print('quantile equals: '+str(Quantile.calculate_quantile(1-0.05/2)))\n",
    "print('is sfit present: '+str(DependentSamples.is_functions_shifted(u)))\n"
   ]
  },
  {
   "cell_type": "markdown",
   "id": "57ef62bf-00b2-47f3-bf7e-efe43f647889",
   "metadata": {},
   "source": [
    "## Критерії перевірки однорідності двох незалежних вибірок: критерії перевірки рівності дисперсій та середніх + ранговий критерій, заданий індивідуальним варіантом."
   ]
  },
  {
   "cell_type": "code",
   "execution_count": 6,
   "id": "6a60d5f8-640d-422e-b63c-9e57fbf645b6",
   "metadata": {},
   "outputs": [],
   "source": [
    "class IndependentSamples:\n",
    "    @classmethod\n",
    "    def calculate_weighted_average_and_t(cls, df):\n",
    "        x_mean = np.mean(df['x'])\n",
    "        y_mean = np.mean(df['y'])\n",
    "        x_dispersion = np.std(df['x'], ddof=1)**2\n",
    "        y_dispersion = np.std(df['y'], ddof=1)**2\n",
    "        x_n =df['x'].count()\n",
    "        y_n =df['y'].count()\n",
    "\n",
    "        weighted_average = ((x_n-1)*x_dispersion+(y_n-1)*y_dispersion)/(x_n+y_n-2)\n",
    "        \n",
    "        t = (x_mean-y_mean)/(np.sqrt(weighted_average/x_n+weighted_average/y_n))\n",
    "        \n",
    "        print('weighted average: '+str(weighted_average))\n",
    "        print('t equals: '+str(t))\n",
    "        \n",
    "        return IndependentSamples.is_mean_equal(t, x_n+y_n-2)\n",
    "\n",
    "    @classmethod\n",
    "    def is_mean_equal(cls, t, v):\n",
    "        print('Quantile: '+str(Quantile.student_quantile(1-0.05/2, v)))\n",
    "        return np.abs(t)<=Quantile.student_quantile(1-0.05/2, v)\n",
    "\n",
    "    @classmethod\n",
    "    def calculate_criterion_with_welch_correction(cls, df):\n",
    "        x_mean = np.mean(df['x'])\n",
    "        y_mean = np.mean(df['y'])\n",
    "        x_dispersion = np.std(df['x'], ddof=1)**2\n",
    "        y_dispersion = np.std(df['y'], ddof=1)**2\n",
    "        x_n =df['x'].count()\n",
    "        y_n =df['y'].count()\n",
    "        \n",
    "        t = (x_mean-y_mean)/(np.sqrt(x_dispersion/x_n+y_dispersion/y_n))\n",
    "        \n",
    "        v = (x_dispersion/x_n+y_dispersion/y_n)**2*((1/(x_n-1)*(x_dispersion/x_n)**2)+(1/(y_n-1)*(y_dispersion/y_n)**2))**-1\n",
    "\n",
    "        print('v: '+str(v))\n",
    "        print('t equals: '+str(t))\n",
    "        \n",
    "        return IndependentSamples.is_mean_equal(t, v)\n",
    "\n",
    "    @classmethod\n",
    "    def claculate_rank_shift_criterion(cls, df, n1, n2):\n",
    "        v = sum(list(df))\n",
    "        ev = 1/2*n1*n2\n",
    "        dv = 1/12*n1*n2*(n1+n2+1)\n",
    "        u = (v-ev)/np.sqrt(dv)\n",
    "        print('v equals: '+str(v))\n",
    "        print('E{V} equals: '+str(ev))\n",
    "        print('D{V} equals: '+str(dv))\n",
    "        print('u equals: '+str(u))\n",
    "        quantile = Quantile.calculate_quantile(1-0.05/2)\n",
    "        print('Quantile: '+str(quantile))\n",
    "        return np.abs(u)<=quantile\n",
    "    \n",
    "    @staticmethod\n",
    "    def check_for_homogeneity(df, varians_equal):\n",
    "\n",
    "        if varians_equal:\n",
    "            mean_equal = IndependentSamples.calculate_weighted_average_and_t(df)\n",
    "        else:\n",
    "            mean_equal = IndependentSamples.calculate_criterion_with_welch_correction(df)\n",
    "\n",
    "        print('Is mean equals: '+str(mean_equal))\n",
    "        print('Is varians equals: '+str(varians_equal))\n",
    "        if mean_equal and varians_equal:\n",
    "            print('homogeneous sample')\n",
    "        else:\n",
    "            print('NOT homogeneous sample')\n",
    "       \n",
    "\n",
    "    @staticmethod\n",
    "    def calculate_rank_with_mann_whitney(df):\n",
    "        result = {}\n",
    "        for x_val in df['x']:\n",
    "            inversions = 0\n",
    "            for y_val in df['y']:\n",
    "                if y_val < x_val:\n",
    "                    inversions += 1\n",
    "                elif y_val == x_val:\n",
    "                    inversions += 0.5  # semi inversion\n",
    "            result[x_val] = inversions\n",
    "        shift_exist = IndependentSamples.claculate_rank_shift_criterion(result.values(), df['x'].count(), df['y'].count())\n",
    "        if shift_exist:\n",
    "            print('NO shift exist')\n",
    "        else:\n",
    "            print('shift exist')\n",
    "            \n",
    "        return shift_exist"
   ]
  },
  {
   "cell_type": "markdown",
   "id": "6aa98b64-5c9a-4e07-a132-40b270773ad0",
   "metadata": {},
   "source": [
    "#### Test"
   ]
  },
  {
   "cell_type": "code",
   "execution_count": 7,
   "id": "fd578ddd-4d5d-47ef-80bf-1116b86c6978",
   "metadata": {},
   "outputs": [
    {
     "name": "stdout",
     "output_type": "stream",
     "text": [
      "F:29.825274128333508\n",
      "F fisher:1.493775767083493\n",
      "v: 72.55477070495581\n",
      "t equals: -115.99311528730358\n",
      "Quantile: 1.993650341594479\n",
      "Is mean equals: False\n",
      "Is varians equals: False\n",
      "NOT homogeneous sample\n",
      "None\n",
      "v equals: 0\n",
      "E{V} equals: 2380.5\n",
      "D{V} equals: 55148.25\n",
      "u equals: -10.13683361229991\n",
      "Quantile: 1.960392179315197\n",
      "shift exist\n"
     ]
    }
   ],
   "source": [
    "print(''+str(IndependentSamples.check_for_homogeneity(df, DependentSamples.calculate_statistic(df))))\n",
    "res = IndependentSamples.calculate_rank_with_mann_whitney(df)"
   ]
  },
  {
   "cell_type": "markdown",
   "id": "4ccb5292-2ec6-4b8c-9f80-49eed8c042c9",
   "metadata": {},
   "source": [
    "### Check wheather distribution normal or not"
   ]
  },
  {
   "cell_type": "code",
   "execution_count": 8,
   "id": "1215a2e3-5da0-48b1-83ab-b7f9cff89c99",
   "metadata": {},
   "outputs": [
    {
     "name": "stdout",
     "output_type": "stream",
     "text": [
      "0.6841051578521729\n",
      "0.022206487134099007\n",
      "Whether first sample normal: True\n",
      "Whether second sample normal: False\n",
      "\n"
     ]
    },
    {
     "data": {
      "text/plain": [
       "False"
      ]
     },
     "execution_count": 8,
     "metadata": {},
     "output_type": "execute_result"
    }
   ],
   "source": [
    "def distribution_normal(df):\n",
    "    alpha = 0.05\n",
    "    \n",
    "    # Shapiro-Wilk test for 'x'\n",
    "    statistic_x, p_value_x = stats.shapiro(df[df.columns[0]])\n",
    "    normal_x = p_value_x > alpha\n",
    "    print(p_value_x)\n",
    "    \n",
    "    # Shapiro-Wilk test for 'y'\n",
    "    statistic_y, p_value_y = stats.shapiro(df[df.columns[1]])\n",
    "    normal_y = p_value_y > alpha\n",
    "    print(p_value_y)\n",
    "    # Checking normality for both 'x' and 'y'\n",
    "    print('Whether first sample normal: ' + str(normal_x))\n",
    "    print('Whether second sample normal: ' + str(normal_y) + '\\n')\n",
    "    if normal_x and normal_y:\n",
    "        normal = True\n",
    "    else:\n",
    "        normal = False\n",
    "    \n",
    "    return normal\n",
    "\n",
    "distribution_normal(df)"
   ]
  },
  {
   "cell_type": "markdown",
   "id": "3bf6954a-457b-4005-84c9-5c7a3469a8a4",
   "metadata": {},
   "source": [
    "## Підрахунок і виведення у таблицю незсунених кількісних характеристики кожної виибірки, а також вибірки різниць у випадку залежних вибірок. "
   ]
  },
  {
   "cell_type": "markdown",
   "id": "34f89bbb-6b58-48d9-b276-419f5e5d16f0",
   "metadata": {},
   "source": [
    "### creating class for calculating a Quantitative Characteristics"
   ]
  },
  {
   "cell_type": "code",
   "execution_count": 9,
   "id": "02df85ed-d902-4410-9fef-faa1eb8786f6",
   "metadata": {},
   "outputs": [],
   "source": [
    "class QuantitativeCharacteristics:\n",
    "\n",
    "    def __init__(self,sample):\n",
    "        self.sample = sample\n",
    "        self.characteristic_fields_map = [\"Mean\", \"Median\", \"Std\", \"Skewness\", \"Kurtosis\", \"Min\", \"Max\"]\n",
    "        self.characteristic_table_dictionary = dict()\n",
    "        self.mean = None\n",
    "        self.std_deviation = None\n",
    "        self.a = None\n",
    "        self.e = None\n",
    "        self.sa = None\n",
    "        self.se = None\n",
    "    \n",
    "    def add_to_dictionary(self, column_name, column_data):\n",
    "        self.characteristic_table_dictionary.update({column_name: column_data})\n",
    "\n",
    "    def display(self):\n",
    "        self.add_characteristics()\n",
    "        return self.characteristic_table_dictionary\n",
    "\n",
    "    def add_characteristics(self):\n",
    "        estimation = self.calculate_estimation()\n",
    "        self.add_to_dictionary(\"Characteristic\", self.characteristic_fields_map)\n",
    "        self.add_to_dictionary(\"Estimation\", estimation.keys())\n",
    "        self.add_to_dictionary(\"SEM\", estimation.values())\n",
    "        confidence_intervals = self.calculate_confidence_interval(estimation)\n",
    "        self.add_to_dictionary(\"95% Confidence Interval\", confidence_intervals)\n",
    "\n",
    "    def calculate_confidence_interval(self, estimation: dict):\n",
    "        confidence_interval = list(range(0, 7))\n",
    "        median_conf_interval = self.calculate_median_confidence_interval(list(estimation.keys())[1])\n",
    "        confidence_interval[1] = f\"[{median_conf_interval[0]}; {median_conf_interval[1]}]\"\n",
    "        confidence_interval[5] = \"───\"\n",
    "        confidence_interval[6] = \"───\"\n",
    "\n",
    "        v = len(self.sample) - 1\n",
    "        student_quantile = Quantile.student_quantile(0.95, v)\n",
    "        print(\"student_quantile: \" + str(student_quantile))\n",
    "        i = 0\n",
    "        for key in estimation.keys():\n",
    "            if (estimation.get(key) == \"───\"):\n",
    "                i = i + 1\n",
    "                continue\n",
    "            upper_bound = round(key - student_quantile * estimation.get(key), 4)\n",
    "            lower_bound = round(key + student_quantile * estimation.get(key), 4)\n",
    "            confidence_interval[i] = f\"[{upper_bound}; {lower_bound}]\"\n",
    "\n",
    "            i = i + 1\n",
    "\n",
    "        return confidence_interval\n",
    "\n",
    "    def calculate_median_confidence_interval(self, median):\n",
    "        num_samples = 1000\n",
    "\n",
    "        bootstrap_samples = [np.random.choice(self.sample, size=len(self.sample), replace=True) for _ in\n",
    "                             range(num_samples)]\n",
    "\n",
    "        bootstrap_medians = np.median(bootstrap_samples, axis=1)\n",
    "\n",
    "        std_error_median = np.std(bootstrap_medians, ddof=1)\n",
    "        v = len(self.sample) - 1\n",
    "        student_quantile = Quantile.student_quantile(1 - 0.05 / 2, v)\n",
    "        lower_bound = round(median - student_quantile * std_error_median, 4)\n",
    "        upper_bound = round(median + student_quantile * std_error_median, 4)\n",
    "\n",
    "        return lower_bound, upper_bound\n",
    "\n",
    "    def calculate_normal_interval(self):\n",
    "        v = len(self.sample) - 1\n",
    "        student_quantile = Quantile.student_quantile(1 - 0.05 / 2, v)\n",
    "        lower_bound = round(self.mean - student_quantile * self.std_deviation, 4)\n",
    "        upper_bound = round(self.mean + student_quantile * self.std_deviation, 4)\n",
    "        return lower_bound, upper_bound\n",
    "\n",
    "    def calculate_estimation(self):\n",
    "        estimation_map = dict()\n",
    "        self.mean = round(np.mean(self.sample), 4)\n",
    "        median = round(np.median(self.sample), 4)\n",
    "        self.std_deviation = round(np.std(self.sample, ddof=1), 4)\n",
    "        self.a = round(stats.skew(self.sample), 4)\n",
    "        self.e = round(stats.kurtosis(self.sample), 4)\n",
    "        minimum = round(min(self.sample), 4)\n",
    "        maximum = round(max(self.sample), 4)\n",
    "\n",
    "        n_len = len(self.sample)\n",
    "        mean_std = round(self.std_deviation / np.sqrt(n_len), 4)\n",
    "        std_std_deviation = round(self.std_deviation / np.sqrt(2 * n_len), 4)\n",
    "        self.sa = round(np.sqrt(6 * n_len * (n_len - 1) / ((n_len - 2) * (n_len + 1) * (n_len + 3))), 4)\n",
    "        self.se = round(\n",
    "            np.sqrt(24 * n_len * (n_len - 1) ** 2 / ((n_len - 3) * (n_len - 2) * (n_len + 3) * (n_len + 5))), 4)\n",
    "\n",
    "        estimation_map[self.mean] = mean_std\n",
    "        estimation_map[median] = \"───\"\n",
    "        estimation_map[self.std_deviation] = std_std_deviation\n",
    "        estimation_map[self.a] = self.sa\n",
    "        estimation_map[self.e] = self.se\n",
    "        estimation_map[minimum] = \"───\"\n",
    "        estimation_map[maximum] = \"───\"\n",
    "        return estimation_map"
   ]
  },
  {
   "cell_type": "markdown",
   "id": "239f4909-3936-4da8-8e0c-9a21968c8c4d",
   "metadata": {},
   "source": [
    "#### Test"
   ]
  },
  {
   "cell_type": "code",
   "execution_count": 10,
   "id": "8d724d53-039f-4700-808b-16c7bae6cf7b",
   "metadata": {},
   "outputs": [
    {
     "name": "stdout",
     "output_type": "stream",
     "text": [
      "student_quantile: 1.6679396238119202\n",
      "  Characteristic  Estimation     SEM 95% Confidence Interval\n",
      "0           Mean     19.9444   0.955      [18.3515; 21.5373]\n",
      "1         Median     20.4021     ───       [18.9262; 21.878]\n",
      "2            Std      7.9328  0.6753        [6.8064; 9.0592]\n",
      "3       Skewness     -0.2139  0.2887       [-0.6954; 0.2676]\n",
      "4       Kurtosis      0.1835  0.5701       [-0.7674; 1.1344]\n",
      "5            Min     -2.4954     ───                     ───\n",
      "6            Max     36.7238     ───                     ───\n",
      "----------\n",
      "student_quantile: 1.6679396238119202\n",
      "  Characteristic  Estimation     SEM 95% Confidence Interval\n",
      "0           Mean    132.5588  0.1749    [132.2671; 132.8505]\n",
      "1         Median    132.6599     ───    [131.9047; 133.4151]\n",
      "2            Std      1.4526  0.1237        [1.2463; 1.6589]\n",
      "3       Skewness      0.1563  0.2887       [-0.3252; 0.6378]\n",
      "4       Kurtosis     -1.0513  0.5701      [-2.0022; -0.1004]\n",
      "5            Min    130.1601     ───                     ───\n",
      "6            Max    136.0200     ───                     ───\n"
     ]
    }
   ],
   "source": [
    "q_c1 = QuantitativeCharacteristics(df['x'])\n",
    "q_c2 = QuantitativeCharacteristics(df['y'])\n",
    "res1= pd.DataFrame(q_c1.display())\n",
    "print(res1)\n",
    "print('----------')\n",
    "res2=  pd.DataFrame(q_c2.display())\n",
    "print(res2)\n"
   ]
  },
  {
   "cell_type": "markdown",
   "id": "1f5a0659-24df-4a89-a9dd-646dd5f36f64",
   "metadata": {},
   "source": [
    "#### Calculate P value with CDF(using student quantile)"
   ]
  },
  {
   "cell_type": "markdown",
   "id": "9667e626-1679-463a-b56b-5f14cd724b2e",
   "metadata": {},
   "source": [
    "### Calculate paired t-test"
   ]
  },
  {
   "cell_type": "code",
   "execution_count": 11,
   "id": "112834e7-0d08-4fd2-9bb0-da7db8ceabad",
   "metadata": {},
   "outputs": [],
   "source": [
    "def homogeneity_check(df):\n",
    "    if(independent):\n",
    "        if(normal):\n",
    "            print('Independent, Normal')\n",
    "            print(str(IndependentSamples.check_for_homogeneity(df, DependentSamples.calculate_statistic(df))))\n",
    "            \n",
    "            q_c1 = QuantitativeCharacteristics(df['x'].dropna())\n",
    "            q_c2 = QuantitativeCharacteristics(df['y'].dropna())\n",
    "            res1= pd.DataFrame(q_c1.display())\n",
    "            print(res1)\n",
    "            print('----------')\n",
    "            res2=  pd.DataFrame(q_c2.display())\n",
    "            print(res2) \n",
    "        else:\n",
    "            print('Independent, NOT Normal')\n",
    "            res = IndependentSamples.calculate_rank_with_mann_whitney(df)\n",
    "            print(res)\n",
    "            \n",
    "            q_c1 = QuantitativeCharacteristics(df['x'].dropna())\n",
    "            q_c2 = QuantitativeCharacteristics(df['y'].dropna())\n",
    "            res1= pd.DataFrame(q_c1.display())\n",
    "            print(res1)\n",
    "            print('----------')\n",
    "            res2=  pd.DataFrame(q_c2.display())\n",
    "            print(res2)     \n",
    "            \n",
    "    else:      \n",
    "        if(normal):\n",
    "            print('Dependent, Normal')\n",
    "            DependentSamples.check_for_homogeneity(df)\n",
    "            q_c1 = QuantitativeCharacteristics(df['x'].dropna())\n",
    "            q_c2 = QuantitativeCharacteristics(df['y'].dropna())\n",
    "            res1= pd.DataFrame(q_c1.display())\n",
    "            print(res1)\n",
    "            print('----------')\n",
    "            res2=  pd.DataFrame(q_c2.display())\n",
    "            print(res2) \n",
    "        else:\n",
    "            print('Dependent, NOT Normal') \n",
    "            t = DependentSamples.calculate_rank_with_wilcoxon(df)\n",
    "            u = DependentSamples.calculate_standardized_statistics_u(df['x'].count(),t)\n",
    "            print('u equals: '+str(u))\n",
    "            print('quantile equals: '+str(Quantile.calculate_quantile(1-0.05/2)))\n",
    "            print('is sfit present: '+str(DependentSamples.is_functions_shifted(u)))\n",
    "\n",
    "            q_c1 = QuantitativeCharacteristics(df['x'].dropna())\n",
    "            q_c2 = QuantitativeCharacteristics(df['y'].dropna())\n",
    "            res1= pd.DataFrame(q_c1.display())\n",
    "            print(res1)\n",
    "            print('----------')\n",
    "            res2=  pd.DataFrame(q_c2.display())\n",
    "            print(res2) "
   ]
  },
  {
   "cell_type": "markdown",
   "id": "11c6ef3e-93c9-471f-83f9-2b8e819a61e8",
   "metadata": {},
   "source": [
    "### Задача 1. У файлі readingspeed.txt міститься інформація щодо швидкості читання у дітей залежно від методики, за якою їх навчали (DRA – direct reading activities, SC – standart curriculum). Потрібно перевірити, чи різниться швидкість читання у разі навчання за цими методиками . "
   ]
  },
  {
   "cell_type": "code",
   "execution_count": 12,
   "id": "a232a9d4-23fe-47e3-a4f3-dbf150ce6beb",
   "metadata": {},
   "outputs": [
    {
     "data": {
      "text/html": [
       "<div>\n",
       "<style scoped>\n",
       "    .dataframe tbody tr th:only-of-type {\n",
       "        vertical-align: middle;\n",
       "    }\n",
       "\n",
       "    .dataframe tbody tr th {\n",
       "        vertical-align: top;\n",
       "    }\n",
       "\n",
       "    .dataframe thead th {\n",
       "        text-align: right;\n",
       "    }\n",
       "</style>\n",
       "<table border=\"1\" class=\"dataframe\">\n",
       "  <thead>\n",
       "    <tr style=\"text-align: right;\">\n",
       "      <th></th>\n",
       "      <th>x</th>\n",
       "      <th>y</th>\n",
       "    </tr>\n",
       "  </thead>\n",
       "  <tbody>\n",
       "    <tr>\n",
       "      <th>0</th>\n",
       "      <td>24.0</td>\n",
       "      <td>42</td>\n",
       "    </tr>\n",
       "    <tr>\n",
       "      <th>1</th>\n",
       "      <td>43.0</td>\n",
       "      <td>43</td>\n",
       "    </tr>\n",
       "    <tr>\n",
       "      <th>2</th>\n",
       "      <td>58.0</td>\n",
       "      <td>55</td>\n",
       "    </tr>\n",
       "    <tr>\n",
       "      <th>3</th>\n",
       "      <td>71.0</td>\n",
       "      <td>26</td>\n",
       "    </tr>\n",
       "    <tr>\n",
       "      <th>4</th>\n",
       "      <td>43.0</td>\n",
       "      <td>62</td>\n",
       "    </tr>\n",
       "  </tbody>\n",
       "</table>\n",
       "</div>"
      ],
      "text/plain": [
       "      x   y\n",
       "0  24.0  42\n",
       "1  43.0  43\n",
       "2  58.0  55\n",
       "3  71.0  26\n",
       "4  43.0  62"
      ]
     },
     "execution_count": 12,
     "metadata": {},
     "output_type": "execute_result"
    }
   ],
   "source": [
    "path = \"../data_lab4_tasks/readingspeed.txt\"\n",
    "df = pd.read_csv(path, delim_whitespace=True)\n",
    "# Initialize lists for 'DRA' and 'SC' scores\n",
    "dra_scores = []\n",
    "sc_scores = []\n",
    "\n",
    "# Extract 'DRA' and 'SC' scores from the DataFrame\n",
    "for index, row in df.iterrows():\n",
    "    if row['LearningType'] == 'DRA':\n",
    "        dra_scores.append(row['Score'])\n",
    "    elif row['LearningType'] == 'SC':\n",
    "        sc_scores.append(row['Score'])\n",
    "\n",
    "# Adjust lengths of lists to be the same\n",
    "max_len = max(len(dra_scores), len(sc_scores))\n",
    "dra_scores.extend([None] * (max_len - len(dra_scores)))\n",
    "sc_scores.extend([None] * (max_len - len(sc_scores)))\n",
    "\n",
    "# Create a DataFrame with 'DRA' and 'SC' columns\n",
    "read_speed_df = pd.DataFrame({'x': dra_scores, 'y': sc_scores})\n",
    "\n",
    "read_speed_df.head()"
   ]
  },
  {
   "cell_type": "code",
   "execution_count": 13,
   "id": "271461ab-c2a1-44ef-ad8e-8633cc8e31a2",
   "metadata": {},
   "outputs": [
    {
     "name": "stdout",
     "output_type": "stream",
     "text": [
      "1.0\n",
      "0.7322295904159546\n",
      "Whether first sample normal: True\n",
      "Whether second sample normal: True\n",
      "\n",
      "Independent, Normal\n",
      "F:2.4271577106788973\n",
      "F fisher:2.0955857334606\n",
      "v: 37.85540065943909\n",
      "t equals: 2.310889197854228\n",
      "Quantile: 2.0251135360136323\n",
      "Is mean equals: False\n",
      "Is varians equals: False\n",
      "NOT homogeneous sample\n",
      "None\n",
      "student_quantile: 1.7251169181872237\n",
      "  Characteristic  Estimation     SEM 95% Confidence Interval\n",
      "0           Mean     51.4762   2.402      [47.3325; 55.6199]\n",
      "1         Median     53.0000     ───        [46.293; 59.707]\n",
      "2            Std     11.0074  1.6985       [8.0773; 13.9375]\n",
      "3       Skewness     -0.5810  0.5012       [-1.4456; 0.2836]\n",
      "4       Kurtosis      0.3519  0.9719       [-1.3247; 2.0285]\n",
      "5            Min     24.0000     ───                     ───\n",
      "6            Max     71.0000     ───                     ───\n",
      "----------\n",
      "student_quantile: 1.717538847657201\n",
      "  Characteristic  Estimation     SEM 95% Confidence Interval\n",
      "0           Mean     41.5217  3.5758      [35.3801; 47.6633]\n",
      "1         Median     42.0000     ───      [34.9266; 49.0734]\n",
      "2            Std     17.1487  2.5284      [12.8061; 21.4913]\n",
      "3       Skewness      0.2887  0.4813        [-0.538; 1.1154]\n",
      "4       Kurtosis      0.2386  0.9348        [-1.367; 1.8442]\n",
      "5            Min     10.0000     ───                     ───\n",
      "6            Max     85.0000     ───                     ───\n"
     ]
    }
   ],
   "source": [
    "normal = distribution_normal(read_speed_df)\n",
    "independent = True\n",
    "homogeneity_check(read_speed_df);"
   ]
  },
  {
   "cell_type": "markdown",
   "id": "6c701fe7-4c49-4664-9731-1e44e9d04cd2",
   "metadata": {},
   "source": [
    "#### 1. Визначити, залежні чи незалежні вибірки задано у задачі. "
   ]
  },
  {
   "cell_type": "markdown",
   "id": "60c6e5ce-1226-4cc0-9f61-d347685ef1fd",
   "metadata": {},
   "source": [
    "Дві вибірки розглядають різні методики читання тому можна з певністю стверджувати що вони незалежні"
   ]
  },
  {
   "cell_type": "markdown",
   "id": "449b4980-8136-42c4-b72c-55284fefff3b",
   "metadata": {},
   "source": [
    "#### Перевірити, чи нормально розподілені дані кожної вибірки"
   ]
  },
  {
   "cell_type": "markdown",
   "id": "c1697ab9-a8c4-4199-a033-88b9960607d4",
   "metadata": {},
   "source": [
    "Як можна побачити з данних і перша і друга вибірки нормально розподілені. и"
   ]
  },
  {
   "cell_type": "markdown",
   "id": "77deb644-927f-4cf7-be63-136f17f98552",
   "metadata": {},
   "source": [
    "#### Для кожної вибірки проаналізувати середнє та 95% довірчий інтервал для нього якщо хоча б одна з вибірок розподілена не за нормальним законом, то поряд із середнім проаналізувати медіану та 95% довірчий інтервал для неї"
   ]
  },
  {
   "cell_type": "markdown",
   "id": "005d655b-0131-46bc-81b1-c5515e0accaf",
   "metadata": {},
   "source": [
    "Щодо швидкості читання у дітей залежно від методики, за якою їх навчали, для першої вибірки видно що середне дорівнює 51.4762 та довірчий інтервал у діапзоні [47.3325; 55.6199].\n",
    "Для другої  вибірки видно що середне дорівнює 41.5217 та довірчий інтервал у діапзоні [35.3801; 47.6633].\n",
    "Отже можна побачити що методика DRA кращя за SC"
   ]
  },
  {
   "cell_type": "markdown",
   "id": "0dda877b-6343-4489-bf8a-813527c1a14e",
   "metadata": {},
   "source": [
    "### Задача 2. Для 61 великого міста Англії та Уельсу відома середня річна смертність на 100 тис. населення (за даними 1958-1964 років), а також концентрація калію у воді (в частинах на мільйон). Чим вища концентрація калію, тим жорсткіша вода. Додатково міста поділено на південні та північні. Дані містяться у файлі water.txt. Потрібно перевірити: 1) чи різниться середня смертність на півночі та півдні країни, 2) чи різниться жорсткість води у північних та південнихн містах. "
   ]
  },
  {
   "cell_type": "code",
   "execution_count": 14,
   "id": "63ec893e-aa3a-4b32-bf69-d591bce0b3b2",
   "metadata": {},
   "outputs": [
    {
     "data": {
      "text/html": [
       "<div>\n",
       "<style scoped>\n",
       "    .dataframe tbody tr th:only-of-type {\n",
       "        vertical-align: middle;\n",
       "    }\n",
       "\n",
       "    .dataframe tbody tr th {\n",
       "        vertical-align: top;\n",
       "    }\n",
       "\n",
       "    .dataframe thead th {\n",
       "        text-align: right;\n",
       "    }\n",
       "</style>\n",
       "<table border=\"1\" class=\"dataframe\">\n",
       "  <thead>\n",
       "    <tr style=\"text-align: right;\">\n",
       "      <th></th>\n",
       "      <th>x</th>\n",
       "      <th>y</th>\n",
       "    </tr>\n",
       "  </thead>\n",
       "  <tbody>\n",
       "    <tr>\n",
       "      <th>0</th>\n",
       "      <td>1668</td>\n",
       "      <td>1247.0</td>\n",
       "    </tr>\n",
       "    <tr>\n",
       "      <th>1</th>\n",
       "      <td>1800</td>\n",
       "      <td>1466.0</td>\n",
       "    </tr>\n",
       "    <tr>\n",
       "      <th>2</th>\n",
       "      <td>1609</td>\n",
       "      <td>1299.0</td>\n",
       "    </tr>\n",
       "    <tr>\n",
       "      <th>3</th>\n",
       "      <td>1558</td>\n",
       "      <td>1359.0</td>\n",
       "    </tr>\n",
       "    <tr>\n",
       "      <th>4</th>\n",
       "      <td>1807</td>\n",
       "      <td>1392.0</td>\n",
       "    </tr>\n",
       "  </tbody>\n",
       "</table>\n",
       "</div>"
      ],
      "text/plain": [
       "      x       y\n",
       "0  1668  1247.0\n",
       "1  1800  1466.0\n",
       "2  1609  1299.0\n",
       "3  1558  1359.0\n",
       "4  1807  1392.0"
      ]
     },
     "execution_count": 14,
     "metadata": {},
     "output_type": "execute_result"
    }
   ],
   "source": [
    "path = \"../data_lab4_tasks/water.txt\"\n",
    "df = pd.read_csv(path, delim_whitespace=True)\n",
    "water_df = df[[df.columns[0],df.columns[2]]]\n",
    "\n",
    "north_scores = []\n",
    "south_scores = []\n",
    "\n",
    "# Extract 'North' and 'South' mortality from the DataFrame\n",
    "for index, row in df.iterrows():\n",
    "    if row['location'] == 'North':\n",
    "        north_scores.append(row['mortality'])\n",
    "    elif row['location'] == 'South':\n",
    "        south_scores.append(row['mortality'])\n",
    "\n",
    "# Adjust lengths of lists to be the same\n",
    "max_len = max(len(north_scores), len(south_scores))\n",
    "north_scores.extend([None] * (max_len - len(north_scores)))\n",
    "south_scores.extend([None] * (max_len - len(south_scores)))\n",
    "\n",
    "# Create a DataFrame with North' and 'South' columns\n",
    "water_df = pd.DataFrame({'x': north_scores, 'y': south_scores})\n",
    "\n",
    "water_df.head()"
   ]
  },
  {
   "cell_type": "code",
   "execution_count": 15,
   "id": "c5cf74c4-14f4-43b7-8473-ef2096b26505",
   "metadata": {},
   "outputs": [
    {
     "name": "stdout",
     "output_type": "stream",
     "text": [
      "0.6116997599601746\n",
      "1.0\n",
      "Whether first sample normal: True\n",
      "Whether second sample normal: True\n",
      "\n",
      "Independent, Normal\n",
      "F:1.0492607615360297\n",
      "F fisher:1.8302131810857287\n",
      "weighted average: 19143.126075619293\n",
      "t equals: 7.168550664340208\n",
      "Quantile: 2.0014470290861976\n",
      "Is mean equals: False\n",
      "Is varians equals: True\n",
      "NOT homogeneous sample\n",
      "None\n",
      "student_quantile: 1.6913042859019731\n",
      "  Characteristic  Estimation      SEM 95% Confidence Interval\n",
      "0           Mean   1633.6000  23.1466  [1594.4521; 1672.7479]\n",
      "1         Median   1637.0000      ───  [1559.4754; 1714.5246]\n",
      "2            Std    136.9369  16.3671    [109.2552; 164.6186]\n",
      "3       Skewness      0.0652   0.3977       [-0.6074; 0.7378]\n",
      "4       Kurtosis     -0.0706   0.7778       [-1.3861; 1.2449]\n",
      "5            Min   1378.0000      ───                     ───\n",
      "6            Max   1987.0000      ───                     ───\n",
      "----------\n",
      "student_quantile: 1.7085302549378196\n",
      "  Characteristic  Estimation      SEM 95% Confidence Interval\n",
      "0           Mean   1376.8077  27.5091  [1329.8076; 1423.8078]\n",
      "1         Median   1364.0000      ───    [1264.698; 1463.302]\n",
      "2            Std    140.2692  19.4518    [107.0352; 173.5032]\n",
      "3       Skewness      0.1086   0.4556        [-0.6698; 0.887]\n",
      "4       Kurtosis     -0.8129   0.8865       [-2.3275; 0.7017]\n",
      "5            Min   1096.0000      ───                     ───\n",
      "6            Max   1627.0000      ───                     ───\n"
     ]
    }
   ],
   "source": [
    "normal = distribution_normal(water_df)\n",
    "independent = True\n",
    "homogeneity_check(water_df);"
   ]
  },
  {
   "cell_type": "markdown",
   "id": "7d774c22-5f71-4d33-b511-983d3144e0b6",
   "metadata": {},
   "source": [
    "#### 1. Визначити, залежні чи незалежні вибірки задано у задачі. "
   ]
  },
  {
   "cell_type": "markdown",
   "id": "0a3865e6-2109-4af4-828a-de156a370799",
   "metadata": {},
   "source": [
    "Дві вибірки розглядають різні місця з яких береться вода тому можна стверджувати що вони незалежні"
   ]
  },
  {
   "cell_type": "markdown",
   "id": "c57bfd9b-2257-409c-9ea9-aad8ae2ff6c4",
   "metadata": {},
   "source": [
    "#### Перевірити, чи нормально розподілені дані кожної вибірки"
   ]
  },
  {
   "cell_type": "markdown",
   "id": "d025e20f-a962-4c5f-aa93-6f1f6bfde8b1",
   "metadata": {},
   "source": [
    "Як можна побачити з данних і перша і друга вибірки нормально розподілені. "
   ]
  },
  {
   "cell_type": "markdown",
   "id": "be49eb37-df03-415f-b4be-97e23c8ce471",
   "metadata": {},
   "source": [
    "#### Для кожної вибірки проаналізувати середнє та 95% довірчий інтервал для нього якщо хоча б одна з вибірок розподілена не за нормальним законом, то поряд із середнім проаналізувати медіану та 95% довірчий інтервал для неї"
   ]
  },
  {
   "cell_type": "markdown",
   "id": "011befca-e11f-4efb-ae90-364ad402fbc2",
   "metadata": {},
   "source": [
    "Щодо смертності на півночі та півдні країни, для першої вибірки видно що середне дорівнює 1633.6000   та довірчий інтервал у діапзоні [1594.4521; 1672.7479].\n",
    "Для другої  вибірки видно що середне дорівнює 1376.8077 та довірчий інтервал у діапзоні [1329.8076; 1423.8078].\n",
    "Отже можна побачити що смертностність різниця і вона більше на півночі"
   ]
  },
  {
   "cell_type": "markdown",
   "id": "dde047a7-f8c0-40eb-bb08-f005ae7a9696",
   "metadata": {},
   "source": [
    "### Пунукт 2"
   ]
  },
  {
   "cell_type": "code",
   "execution_count": 16,
   "id": "49a71a06-3941-4dfa-8a39-39d8795761e5",
   "metadata": {},
   "outputs": [
    {
     "data": {
      "text/html": [
       "<div>\n",
       "<style scoped>\n",
       "    .dataframe tbody tr th:only-of-type {\n",
       "        vertical-align: middle;\n",
       "    }\n",
       "\n",
       "    .dataframe tbody tr th {\n",
       "        vertical-align: top;\n",
       "    }\n",
       "\n",
       "    .dataframe thead th {\n",
       "        text-align: right;\n",
       "    }\n",
       "</style>\n",
       "<table border=\"1\" class=\"dataframe\">\n",
       "  <thead>\n",
       "    <tr style=\"text-align: right;\">\n",
       "      <th></th>\n",
       "      <th>x</th>\n",
       "      <th>y</th>\n",
       "    </tr>\n",
       "  </thead>\n",
       "  <tbody>\n",
       "    <tr>\n",
       "      <th>0</th>\n",
       "      <td>17</td>\n",
       "      <td>105.0</td>\n",
       "    </tr>\n",
       "    <tr>\n",
       "      <th>1</th>\n",
       "      <td>14</td>\n",
       "      <td>5.0</td>\n",
       "    </tr>\n",
       "    <tr>\n",
       "      <th>2</th>\n",
       "      <td>18</td>\n",
       "      <td>78.0</td>\n",
       "    </tr>\n",
       "    <tr>\n",
       "      <th>3</th>\n",
       "      <td>10</td>\n",
       "      <td>84.0</td>\n",
       "    </tr>\n",
       "    <tr>\n",
       "      <th>4</th>\n",
       "      <td>15</td>\n",
       "      <td>73.0</td>\n",
       "    </tr>\n",
       "  </tbody>\n",
       "</table>\n",
       "</div>"
      ],
      "text/plain": [
       "    x      y\n",
       "0  17  105.0\n",
       "1  14    5.0\n",
       "2  18   78.0\n",
       "3  10   84.0\n",
       "4  15   73.0"
      ]
     },
     "execution_count": 16,
     "metadata": {},
     "output_type": "execute_result"
    }
   ],
   "source": [
    "water_df = df[[df.columns[0],df.columns[3]]]\n",
    "north_scores = []\n",
    "south_scores = []\n",
    "\n",
    "# Extract 'North' and 'South' mortality from the DataFrame\n",
    "for index, row in df.iterrows():\n",
    "    if row['location'] == 'North':\n",
    "        north_scores.append(row['hardness'])\n",
    "    elif row['location'] == 'South':\n",
    "        south_scores.append(row['hardness'])\n",
    "\n",
    "# Adjust lengths of lists to be the same\n",
    "max_len = max(len(north_scores), len(south_scores))\n",
    "north_scores.extend([None] * (max_len - len(north_scores)))\n",
    "south_scores.extend([None] * (max_len - len(south_scores)))\n",
    "\n",
    "# Create a DataFrame with North' and 'South' columns\n",
    "water_hardness_df = pd.DataFrame({'x': north_scores, 'y': south_scores})\n",
    "\n",
    "water_hardness_df.head()"
   ]
  },
  {
   "cell_type": "code",
   "execution_count": 17,
   "id": "ee57bf0e-82b8-4cda-8c82-04866ff2d3e4",
   "metadata": {},
   "outputs": [
    {
     "name": "stdout",
     "output_type": "stream",
     "text": [
      "3.4388271160423756e-05\n",
      "1.0\n",
      "Whether first sample normal: False\n",
      "Whether second sample normal: True\n",
      "\n",
      "Independent, NOT Normal\n",
      "v equals: 139.0\n",
      "E{V} equals: 455.0\n",
      "D{V} equals: 4701.666666666666\n",
      "u equals: -4.6085166908712605\n",
      "Quantile: 1.960392179315197\n",
      "shift exist\n",
      "False\n",
      "student_quantile: 1.6913042859019731\n",
      "  Characteristic  Estimation     SEM 95% Confidence Interval\n",
      "0           Mean     30.4000  4.4175      [22.9287; 37.8713]\n",
      "1         Median     17.0000     ───       [8.0638; 25.9362]\n",
      "2            Std     26.1345  3.1237      [20.8514; 31.4176]\n",
      "3       Skewness      1.1106  0.3977         [0.438; 1.7832]\n",
      "4       Kurtosis     -0.0518  0.7778       [-1.3673; 1.2637]\n",
      "5            Min      6.0000     ───                     ───\n",
      "6            Max     94.0000     ───                     ───\n",
      "----------\n",
      "student_quantile: 1.7085302549378196\n",
      "  Characteristic  Estimation     SEM 95% Confidence Interval\n",
      "0           Mean     69.7692  7.9154      [56.2455; 83.2929]\n",
      "1         Median     75.5000     ───      [54.5522; 96.4478]\n",
      "2            Std     40.3607   5.597      [30.7981; 49.9233]\n",
      "3       Skewness     -0.1046  0.4556        [-0.883; 0.6738]\n",
      "4       Kurtosis     -1.0303  0.8865       [-2.5449; 0.4843]\n",
      "5            Min      5.0000     ───                     ───\n",
      "6            Max    138.0000     ───                     ───\n"
     ]
    }
   ],
   "source": [
    "normal=distribution_normal(water_hardness_df)\n",
    "independent = True\n",
    "homogeneity_check(water_hardness_df);"
   ]
  },
  {
   "cell_type": "markdown",
   "id": "96e39fc0-e5fd-48f0-94c4-c6db6caca1d6",
   "metadata": {},
   "source": [
    "#### 1. Визначити, залежні чи незалежні вибірки задано у задачі. "
   ]
  },
  {
   "cell_type": "markdown",
   "id": "9b49f87d-a3c8-453d-b7ee-a81c8a055629",
   "metadata": {},
   "source": [
    "Зновуж дві вибірки розглядають різні місця з яких береться вода тому можна стверджувати що вони незалежні"
   ]
  },
  {
   "cell_type": "markdown",
   "id": "db61d152-2015-4c93-9264-09a0b7511377",
   "metadata": {},
   "source": [
    "#### Перевірити, чи нормально розподілені дані кожної вибірки"
   ]
  },
  {
   "cell_type": "markdown",
   "id": "88e78414-3275-4750-8902-ee1791dbeb5e",
   "metadata": {},
   "source": [
    "Як можна побачити з за тестом Шапіро-Уілка і перша вибірки розподілена НЕ нормально, а друга розподілена нормально. Було застосовано ранговий критерій Манна–Уїтні завдяки йому ми бачемо, що вибірки мають здвиг"
   ]
  },
  {
   "cell_type": "markdown",
   "id": "38ee4f7b-ae32-4363-bf69-f4ac5a6ad7cf",
   "metadata": {},
   "source": [
    "#### Для кожної вибірки проаналізувати середнє та 95% довірчий інтервал для нього якщо хоча б одна з вибірок розподілена не за нормальним законом, то поряд із середнім проаналізувати медіану та 95% довірчий інтервал для неї"
   ]
  },
  {
   "cell_type": "markdown",
   "id": "c7ff008f-7371-476b-94e2-8f43bfb0235b",
   "metadata": {},
   "source": [
    "Щодо жорсткості води у північних та південних містах, для першої вибірки видно що середне дорівнює 30.4000 та довірчий інтервал у діапзоні [22.9287; 37.8713].\n",
    "Для другої  вибірки видно що середне дорівнює 69.7692 та довірчий інтервал у діапзоні [56.2455; 83.2929].\n",
    "На підставі цих данних можна стверджувати, що побачити жорсткість води у південих містах набагато більша.\n",
    "Як висновок після детельного аналізу можна побачити що жорсткість води не впливає на смертність, а навіть якщо і впливає то її вплив дуже малий "
   ]
  },
  {
   "cell_type": "markdown",
   "id": "bbed785e-1fae-4ead-b523-38f7bba4e410",
   "metadata": {},
   "source": [
    "### Задача 3. У рамках дослідження ефективності препарату «метилфенидат» 24 пацієнти із синдромом дефіциту уваги та гіперактивності протягом тижня приймали або метилфенидат, або плацебо. Наприкінці тижня кожен пацієнт проходив тест на здатність до пригнічення імпульсивних поведінкових реакцій. На другому етапі плацебо та препарат мінялися, і після тижневого курсу кожний піддослідний проходив другий тест. Результати першого та другого тестів містяться у файлі ADHD.txt. Потрібно оцінити ефект від застосування препарату. "
   ]
  },
  {
   "cell_type": "code",
   "execution_count": 18,
   "id": "2e0f25b9-5336-4991-b9e0-f16f59b751b6",
   "metadata": {},
   "outputs": [
    {
     "data": {
      "text/html": [
       "<div>\n",
       "<style scoped>\n",
       "    .dataframe tbody tr th:only-of-type {\n",
       "        vertical-align: middle;\n",
       "    }\n",
       "\n",
       "    .dataframe tbody tr th {\n",
       "        vertical-align: top;\n",
       "    }\n",
       "\n",
       "    .dataframe thead th {\n",
       "        text-align: right;\n",
       "    }\n",
       "</style>\n",
       "<table border=\"1\" class=\"dataframe\">\n",
       "  <thead>\n",
       "    <tr style=\"text-align: right;\">\n",
       "      <th></th>\n",
       "      <th>x</th>\n",
       "      <th>y</th>\n",
       "    </tr>\n",
       "  </thead>\n",
       "  <tbody>\n",
       "    <tr>\n",
       "      <th>0</th>\n",
       "      <td>57</td>\n",
       "      <td>62</td>\n",
       "    </tr>\n",
       "    <tr>\n",
       "      <th>1</th>\n",
       "      <td>27</td>\n",
       "      <td>49</td>\n",
       "    </tr>\n",
       "    <tr>\n",
       "      <th>2</th>\n",
       "      <td>32</td>\n",
       "      <td>30</td>\n",
       "    </tr>\n",
       "    <tr>\n",
       "      <th>3</th>\n",
       "      <td>31</td>\n",
       "      <td>34</td>\n",
       "    </tr>\n",
       "    <tr>\n",
       "      <th>4</th>\n",
       "      <td>34</td>\n",
       "      <td>38</td>\n",
       "    </tr>\n",
       "  </tbody>\n",
       "</table>\n",
       "</div>"
      ],
      "text/plain": [
       "    x   y\n",
       "0  57  62\n",
       "1  27  49\n",
       "2  32  30\n",
       "3  31  34\n",
       "4  34  38"
      ]
     },
     "execution_count": 18,
     "metadata": {},
     "output_type": "execute_result"
    }
   ],
   "source": [
    "path = \"../data_lab4_tasks/ADHD.txt\"\n",
    "difference_sampling = pd.read_csv(path, delim_whitespace=True, header=None, skiprows=1, names=['x','y'])\n",
    "\n",
    "difference_sampling.head()"
   ]
  },
  {
   "cell_type": "code",
   "execution_count": 19,
   "id": "d2e800fc-d16e-46d2-b420-6ad69cc60df4",
   "metadata": {},
   "outputs": [
    {
     "name": "stdout",
     "output_type": "stream",
     "text": [
      "Dependent, NOT Normal\n",
      "u equals: -2.9\n",
      "quantile equals: 1.960392179315197\n",
      "is sfit present: True\n",
      "student_quantile: 1.714264188783287\n",
      "  Characteristic  Estimation     SEM 95% Confidence Interval\n",
      "0           Mean     39.7500  2.3096      [35.7907; 43.7093]\n",
      "1         Median     36.0000     ───      [31.9236; 40.0764]\n",
      "2            Std     11.3147  1.6331       [8.5151; 14.1143]\n",
      "3       Skewness      1.1504  0.4723          [0.3408; 1.96]\n",
      "4       Kurtosis      0.5605  0.9178       [-1.0129; 2.1339]\n",
      "5            Min     26.0000     ───                     ───\n",
      "6            Max     71.0000     ───                     ───\n",
      "----------\n",
      "student_quantile: 1.714264188783287\n",
      "  Characteristic  Estimation     SEM 95% Confidence Interval\n",
      "0           Mean     44.7083  2.5148      [40.3973; 49.0193]\n",
      "1         Median     42.5000     ───      [34.4678; 50.5322]\n",
      "2            Std     12.3199  1.7782       [9.2716; 15.3682]\n",
      "3       Skewness      0.8199  0.4723        [0.0103; 1.6295]\n",
      "4       Kurtosis     -0.0012  0.9178       [-1.5746; 1.5722]\n",
      "5            Min     29.0000     ───                     ───\n",
      "6            Max     77.0000     ───                     ───\n",
      "------START------\n",
      "0.8922544717788696\n",
      "0.8922544717788696\n",
      "Whether first sample normal: True\n",
      "Whether second sample normal: True\n",
      "\n",
      "Dependent, Normal\n",
      "t equals: 0\n",
      "Quantile: 2.074367514434043\n",
      "F:1.0\n",
      "F fisher:2.0094347711036953\n",
      "Is mean equals: True\n",
      "Is varians equals: True\n",
      "homogeneous sample\n",
      "student_quantile: 1.714264188783287\n",
      "  Characteristic  Estimation     SEM 95% Confidence Interval\n",
      "0           Mean     -4.9583  1.5387       [-7.596; -2.3206]\n",
      "1         Median     -5.0000     ───      [-8.0239; -1.9761]\n",
      "2            Std      7.5382   1.088        [5.6731; 9.4033]\n",
      "3       Skewness     -0.2259  0.4723       [-1.0355; 0.5837]\n",
      "4       Kurtosis      0.0002  0.9178       [-1.5732; 1.5736]\n",
      "5            Min    -22.0000     ───                     ───\n",
      "6            Max     11.0000     ───                     ───\n",
      "----------\n",
      "student_quantile: 1.714264188783287\n",
      "  Characteristic  Estimation     SEM 95% Confidence Interval\n",
      "0           Mean     -4.9583  1.5387       [-7.596; -2.3206]\n",
      "1         Median     -5.0000     ───      [-8.0012; -1.9988]\n",
      "2            Std      7.5382   1.088        [5.6731; 9.4033]\n",
      "3       Skewness     -0.2259  0.4723       [-1.0355; 0.5837]\n",
      "4       Kurtosis      0.0002  0.9178       [-1.5732; 1.5736]\n",
      "5            Min    -22.0000     ───                     ───\n",
      "6            Max     11.0000     ───                     ───\n",
      "------Second homogeneity check------\n",
      "Dependent, Normal\n",
      "t equals: -3.1545156372651255\n",
      "Quantile: 2.074367514434043\n",
      "F:1.1855861210165846\n",
      "F fisher:2.0094347711036953\n",
      "Is mean equals: False\n",
      "Is varians equals: True\n",
      "NOT homogeneous sample\n",
      "student_quantile: 1.714264188783287\n",
      "  Characteristic  Estimation     SEM 95% Confidence Interval\n",
      "0           Mean     39.7500  2.3096      [35.7907; 43.7093]\n",
      "1         Median     36.0000     ───      [32.1818; 39.8182]\n",
      "2            Std     11.3147  1.6331       [8.5151; 14.1143]\n",
      "3       Skewness      1.1504  0.4723          [0.3408; 1.96]\n",
      "4       Kurtosis      0.5605  0.9178       [-1.0129; 2.1339]\n",
      "5            Min     26.0000     ───                     ───\n",
      "6            Max     71.0000     ───                     ───\n",
      "----------\n",
      "student_quantile: 1.714264188783287\n",
      "  Characteristic  Estimation     SEM 95% Confidence Interval\n",
      "0           Mean     44.7083  2.5148      [40.3973; 49.0193]\n",
      "1         Median     42.5000     ───      [34.1948; 50.8052]\n",
      "2            Std     12.3199  1.7782       [9.2716; 15.3682]\n",
      "3       Skewness      0.8199  0.4723        [0.0103; 1.6295]\n",
      "4       Kurtosis     -0.0012  0.9178       [-1.5746; 1.5722]\n",
      "5            Min     29.0000     ───                     ───\n",
      "6            Max     77.0000     ───                     ───\n"
     ]
    }
   ],
   "source": [
    "independent = False\n",
    "homogeneity_check(difference_sampling);\n",
    "print('------START------')\n",
    "investigation_df = pd.DataFrame({'x': difference_sampling['z'], 'y': difference_sampling['z']})\n",
    "normal = distribution_normal(investigation_df)\n",
    "independent = False\n",
    "homogeneity_check(investigation_df)\n",
    "print('------Second homogeneity check------')\n",
    "homogeneity_check(difference_sampling);"
   ]
  },
  {
   "cell_type": "markdown",
   "id": "17b26b7f-a474-4c3e-9cd9-8a4a3df73fde",
   "metadata": {},
   "source": [
    "#### 1. Сформувати вибірку різниць. "
   ]
  },
  {
   "cell_type": "markdown",
   "id": "957b5a4d-1cc3-490e-b78f-7670d18cb977",
   "metadata": {},
   "source": [
    "#### перевірити, чи нормально розподілені ці різниці"
   ]
  },
  {
   "cell_type": "markdown",
   "id": "bc1053d9-c191-4ade-ae5a-8679c7711e93",
   "metadata": {},
   "source": [
    "За тестом Шапіро-Уілка можна побачити, що вибірка різниць розподілена пормально."
   ]
  },
  {
   "cell_type": "markdown",
   "id": "04aea7b6-1c64-46af-83e1-ae883e2b10ce",
   "metadata": {},
   "source": [
    "#### Проаналізувати середнє значення різниць разом з 95% довірчим інтервалом; якщо вибірка різниць розподілена не за нормальним законом, то додатково проаналізувати медіану різниць з 95% довірчим інтервалом"
   ]
  },
  {
   "cell_type": "markdown",
   "id": "6cc7b42b-e7af-4db4-91ba-be2a4d9e5931",
   "metadata": {},
   "source": [
    "Як можна побачити середне значення дорівнює -4.9583 а 95% довірчий інтервал у діапазоні [-7.596; -2.3206], а це може свідчити що значення у другій вибірці є вищі ніж у першій\n"
   ]
  },
  {
   "cell_type": "markdown",
   "id": "90be9d62-a476-4612-9cd3-9ded3d8e7b70",
   "metadata": {},
   "source": [
    "#### Застосувати для розв’язання задачі параметричний або ранговий критерій в залежності від результатів перевірки на нормальність."
   ]
  },
  {
   "cell_type": "markdown",
   "id": "222839a2-9a89-490f-9833-8aced7e3ad51",
   "metadata": {},
   "source": [
    "Як бачимо ефект від застосування препарату, для вибірки застосування плацеби видно що середне дорівнює 39.7500 та довірчий інтервал у діапзоні [35.7907; 43.7093]. Для вибірки застосування плацеби видно що середне дорівнює  44.7083  та довірчий інтервал у діапзоні [40.3973; 49.0193].\n",
    "Отже видно що середні сутьтево різняться і можна зробити висновок що препарат Methylphenidate допоміг більшій кількості паціентів в середньому ніж Плацебо."
   ]
  },
  {
   "cell_type": "markdown",
   "id": "b7dd1193-f335-4fae-855f-037ea90c11fe",
   "metadata": {},
   "source": [
    "### Задача 4. На замовлення власника заводу група експертів провела оцінку вин «Шардоне» та «Каберне Совіньон», що випускаються цим заводом. Оцінка проводилася за 20 бальною шкалою (чим вищий бал, тим краще вино), результати подано у файлі wines.txt. Чи можна на основі цих оцінок вважати одне з вин кращим?"
   ]
  },
  {
   "cell_type": "code",
   "execution_count": 25,
   "id": "60ecdc3e-10f5-4d7d-a95e-63c34e6b0f3d",
   "metadata": {},
   "outputs": [
    {
     "data": {
      "text/html": [
       "<div>\n",
       "<style scoped>\n",
       "    .dataframe tbody tr th:only-of-type {\n",
       "        vertical-align: middle;\n",
       "    }\n",
       "\n",
       "    .dataframe tbody tr th {\n",
       "        vertical-align: top;\n",
       "    }\n",
       "\n",
       "    .dataframe thead th {\n",
       "        text-align: right;\n",
       "    }\n",
       "</style>\n",
       "<table border=\"1\" class=\"dataframe\">\n",
       "  <thead>\n",
       "    <tr style=\"text-align: right;\">\n",
       "      <th></th>\n",
       "      <th>x</th>\n",
       "      <th>y</th>\n",
       "    </tr>\n",
       "  </thead>\n",
       "  <tbody>\n",
       "    <tr>\n",
       "      <th>0</th>\n",
       "      <td>17.8</td>\n",
       "      <td>18.4</td>\n",
       "    </tr>\n",
       "    <tr>\n",
       "      <th>1</th>\n",
       "      <td>18.6</td>\n",
       "      <td>19.2</td>\n",
       "    </tr>\n",
       "    <tr>\n",
       "      <th>2</th>\n",
       "      <td>19.5</td>\n",
       "      <td>17.0</td>\n",
       "    </tr>\n",
       "    <tr>\n",
       "      <th>3</th>\n",
       "      <td>18.3</td>\n",
       "      <td>18.8</td>\n",
       "    </tr>\n",
       "    <tr>\n",
       "      <th>4</th>\n",
       "      <td>19.8</td>\n",
       "      <td>16.3</td>\n",
       "    </tr>\n",
       "  </tbody>\n",
       "</table>\n",
       "</div>"
      ],
      "text/plain": [
       "      x     y\n",
       "0  17.8  18.4\n",
       "1  18.6  19.2\n",
       "2  19.5  17.0\n",
       "3  18.3  18.8\n",
       "4  19.8  16.3"
      ]
     },
     "execution_count": 25,
     "metadata": {},
     "output_type": "execute_result"
    }
   ],
   "source": [
    "path = \"../data_lab4_tasks/wines.txt\"\n",
    "difference_wines_sampling = pd.read_csv(path, delim_whitespace=True, header=None, skiprows=1, names=['x','y'])\n",
    "\n",
    "difference_wines_sampling.head()"
   ]
  },
  {
   "cell_type": "code",
   "execution_count": 26,
   "id": "20244860-87a2-4971-b21d-fe78e284d26a",
   "metadata": {},
   "outputs": [
    {
     "name": "stdout",
     "output_type": "stream",
     "text": [
      "Dependent, NOT Normal\n",
      "u equals: 1.376047416881589\n",
      "quantile equals: 1.960392179315197\n",
      "is sfit present: False\n",
      "student_quantile: 1.8335706459799226\n",
      "  Characteristic  Estimation     SEM 95% Confidence Interval\n",
      "0           Mean     18.7100  0.3035      [18.1535; 19.2665]\n",
      "1         Median     18.4500     ───      [17.2162; 19.6838]\n",
      "2            Std      0.9597  0.2146        [0.5662; 1.3532]\n",
      "3       Skewness      0.0737   0.687        [-1.186; 1.3334]\n",
      "4       Kurtosis     -1.5042  1.3342       [-3.9505; 0.9421]\n",
      "5            Min     17.3000     ───                     ───\n",
      "6            Max     19.9000     ───                     ───\n",
      "----------\n",
      "student_quantile: 1.8335706459799226\n",
      "  Characteristic  Estimation     SEM 95% Confidence Interval\n",
      "0           Mean     17.5400   0.461      [16.6947; 18.3853]\n",
      "1         Median     17.5000     ───      [15.8753; 19.1247]\n",
      "2            Std      1.4577   0.326          [0.86; 2.0554]\n",
      "3       Skewness     -0.1672   0.687       [-1.4269; 1.0925]\n",
      "4       Kurtosis     -1.1749  1.3342       [-3.6212; 1.2714]\n",
      "5            Min     15.1000     ───                     ───\n",
      "6            Max     19.5000     ───                     ───\n",
      "------START------\n",
      "0.04374900832772255\n",
      "0.04374900832772255\n",
      "Whether first sample normal: False\n",
      "Whether second sample normal: False\n",
      "\n",
      "Dependent, NOT Normal\n",
      "u equals: nan\n",
      "quantile equals: 1.960392179315197\n",
      "is sfit present: False\n",
      "student_quantile: 1.8335706459799226\n",
      "  Characteristic  Estimation     SEM 95% Confidence Interval\n",
      "0           Mean      1.1700  0.5485        [0.1643; 2.1757]\n",
      "1         Median      1.1000     ───       [-1.4678; 3.6678]\n",
      "2            Std      1.7346  0.3879        [1.0234; 2.4458]\n",
      "3       Skewness      0.0856   0.687       [-1.1741; 1.3453]\n",
      "4       Kurtosis     -1.7330  1.3342       [-4.1793; 0.7133]\n",
      "5            Min     -0.7000     ───                     ───\n",
      "6            Max      3.5000     ───                     ───\n",
      "----------\n",
      "student_quantile: 1.8335706459799226\n",
      "  Characteristic  Estimation     SEM 95% Confidence Interval\n",
      "0           Mean      1.1700  0.5485        [0.1643; 2.1757]\n",
      "1         Median      1.1000     ───       [-1.5086; 3.7086]\n",
      "2            Std      1.7346  0.3879        [1.0234; 2.4458]\n",
      "3       Skewness      0.0856   0.687       [-1.1741; 1.3453]\n",
      "4       Kurtosis     -1.7330  1.3342       [-4.1793; 0.7133]\n",
      "5            Min     -0.7000     ───                     ───\n",
      "6            Max      3.5000     ───                     ───\n",
      "------Second homogeneity check------\n",
      "Dependent, NOT Normal\n",
      "u equals: 1.376047416881589\n",
      "quantile equals: 1.960392179315197\n",
      "is sfit present: False\n",
      "student_quantile: 1.8335706459799226\n",
      "  Characteristic  Estimation     SEM 95% Confidence Interval\n",
      "0           Mean     18.7100  0.3035      [18.1535; 19.2665]\n",
      "1         Median     18.4500     ───      [17.2171; 19.6829]\n",
      "2            Std      0.9597  0.2146        [0.5662; 1.3532]\n",
      "3       Skewness      0.0737   0.687        [-1.186; 1.3334]\n",
      "4       Kurtosis     -1.5042  1.3342       [-3.9505; 0.9421]\n",
      "5            Min     17.3000     ───                     ───\n",
      "6            Max     19.9000     ───                     ───\n",
      "----------\n",
      "student_quantile: 1.8335706459799226\n",
      "  Characteristic  Estimation     SEM 95% Confidence Interval\n",
      "0           Mean     17.5400   0.461      [16.6947; 18.3853]\n",
      "1         Median     17.5000     ───      [15.8978; 19.1022]\n",
      "2            Std      1.4577   0.326          [0.86; 2.0554]\n",
      "3       Skewness     -0.1672   0.687       [-1.4269; 1.0925]\n",
      "4       Kurtosis     -1.1749  1.3342       [-3.6212; 1.2714]\n",
      "5            Min     15.1000     ───                     ───\n",
      "6            Max     19.5000     ───                     ───\n"
     ]
    }
   ],
   "source": [
    "independent = False\n",
    "homogeneity_check(difference_wines_sampling);\n",
    "print('------START------')\n",
    "wines_df = pd.DataFrame({'x': difference_wines_sampling['z'], 'y': difference_wines_sampling['z']})\n",
    "normal = distribution_normal(wines_df)\n",
    "homogeneity_check(wines_df)\n",
    "print('------Second homogeneity check------')\n",
    "homogeneity_check(difference_wines_sampling);"
   ]
  },
  {
   "cell_type": "markdown",
   "id": "0147cc1b-a8e8-4867-b8ae-6381ffd8b9f4",
   "metadata": {},
   "source": [
    "#### 1. Сформувати вибірку різниць. "
   ]
  },
  {
   "cell_type": "markdown",
   "id": "2df802ec-0dd2-459f-b580-6fa4b080beeb",
   "metadata": {},
   "source": [
    "Вибірка у четвертій задачі також залежна тут той самий принцип, що і з паціентом, а саме експерт це об'єкт який оцінює продукт  "
   ]
  },
  {
   "cell_type": "markdown",
   "id": "efb0a75c-a955-4f09-948e-50eca3712eee",
   "metadata": {},
   "source": [
    "#### Перевірити, чи нормально розподілені ці різниці"
   ]
  },
  {
   "cell_type": "markdown",
   "id": "418684c4-a084-4014-ab1e-e2d90868120e",
   "metadata": {},
   "source": [
    "Як можна побачити вибірка різниць не розподілена пормально"
   ]
  },
  {
   "cell_type": "markdown",
   "id": "65883221-3adf-4577-b1d8-8abc28ec5b67",
   "metadata": {},
   "source": [
    "#### Проаналізувати середнє значення різниць разом з 95% довірчим інтервалом; якщо вибірка різниць розподілена не за нормальним законом, то додатково проаналізувати медіану різниць з 95% довірчим інтервалом"
   ]
  },
  {
   "cell_type": "markdown",
   "id": "cb3c01e4-e6b3-4511-9f03-f669a9b1c746",
   "metadata": {},
   "source": [
    "Як бачимо з оцінок експертів видно, що середне дорівнює 1.1700 та довірчий інтервал у діапзоні [0.1643; 2.1757], а медіана дорівнює  1.1000  та довірчий інтервал у діапзоні [-1.4678; 3.6678].\n",
    "Отже по цим данним можна сказати що в середньому значення у \"Шардоне\"(перша вибірка) трохи більша за \"Каберне Совіньон\"(друга вибірка)"
   ]
  },
  {
   "cell_type": "markdown",
   "id": "36191b3c-4cbf-4748-bf62-45cc928b7499",
   "metadata": {},
   "source": [
    "#### Застосувати для розв’язання задачі параметричний або ранговий критерій в залежності від результатів перевірки на нормальність."
   ]
  },
  {
   "cell_type": "markdown",
   "id": "c692a89f-b591-420a-9a5f-36f147b8eaf2",
   "metadata": {},
   "source": [
    "За ранговим критеріем бачимо, що зсув відсутній тобто немає вираженого тенденційного зміщення у будь-якому конкретному напрямку, а також беручі до уваги, що відсутнісь зсуву може вказувати на відсутність систематичних помилок чи відхилень в досліджуваних даних. Також ми бачимо, що для \"Шардоне\" середне  дорівнює 18.7100 та довірчий інтервал у діапзоні [18.1535; 19.2665], а для \"Каберне Совіньон\" середне  дорівнює 17.5400 та довірчий інтервал у діапзоні [16.6947; 18.3853].\n",
    "\n",
    "Як висновок можна сказати, що \"Шардоне\" в середньому був оцінений більш високо, аніж \"Каберне Совіньон\", але беручі до уваги, що для таких великих значень намає виликої відміності та те що лише 10 експертів приймало учать нам не вдасться наоснові цих оцінок вважати одне з вин кращим за інше. Це підкреслює потребу у більшій кількості даних чи учасників дослідження для отримання більш об'єктивної оцінки."
   ]
  }
 ],
 "metadata": {
  "kernelspec": {
   "display_name": "Python 3 (ipykernel)",
   "language": "python",
   "name": "python3"
  },
  "language_info": {
   "codemirror_mode": {
    "name": "ipython",
    "version": 3
   },
   "file_extension": ".py",
   "mimetype": "text/x-python",
   "name": "python",
   "nbconvert_exporter": "python",
   "pygments_lexer": "ipython3",
   "version": "3.11.5"
  }
 },
 "nbformat": 4,
 "nbformat_minor": 5
}
