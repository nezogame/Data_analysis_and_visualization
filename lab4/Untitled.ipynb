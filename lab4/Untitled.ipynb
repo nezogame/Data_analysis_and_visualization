{
 "cells": [
  {
   "cell_type": "markdown",
   "id": "50ac981a-5f02-4f16-856a-06cacf17c05b",
   "metadata": {},
   "source": [
    "# Importing libraries"
   ]
  },
  {
   "cell_type": "code",
   "execution_count": 1,
   "id": "bc4efb84-759c-4529-b423-4cf8e1f5448f",
   "metadata": {},
   "outputs": [],
   "source": [
    "import pandas as pd\n",
    "import numpy as np\n",
    "import matplotlib.pyplot as plt\n",
    "import seaborn as sns\n",
    "from scipy import stats"
   ]
  },
  {
   "cell_type": "markdown",
   "id": "8a5be6f9-9453-460e-b67d-0f40caf3a786",
   "metadata": {},
   "source": [
    "## 1.Завантаження залежних та незалежних вибірок з текстових файлів. "
   ]
  },
  {
   "cell_type": "code",
   "execution_count": 2,
   "id": "f95aae76-15f9-4ddf-8606-ad4c7110bb7b",
   "metadata": {},
   "outputs": [
    {
     "data": {
      "text/html": [
       "<div>\n",
       "<style scoped>\n",
       "    .dataframe tbody tr th:only-of-type {\n",
       "        vertical-align: middle;\n",
       "    }\n",
       "\n",
       "    .dataframe tbody tr th {\n",
       "        vertical-align: top;\n",
       "    }\n",
       "\n",
       "    .dataframe thead th {\n",
       "        text-align: right;\n",
       "    }\n",
       "</style>\n",
       "<table border=\"1\" class=\"dataframe\">\n",
       "  <thead>\n",
       "    <tr style=\"text-align: right;\">\n",
       "      <th></th>\n",
       "      <th>x</th>\n",
       "      <th>y</th>\n",
       "    </tr>\n",
       "  </thead>\n",
       "  <tbody>\n",
       "    <tr>\n",
       "      <th>0</th>\n",
       "      <td>102.9</td>\n",
       "      <td>424.9</td>\n",
       "    </tr>\n",
       "    <tr>\n",
       "      <th>1</th>\n",
       "      <td>142.0</td>\n",
       "      <td>353.1</td>\n",
       "    </tr>\n",
       "    <tr>\n",
       "      <th>2</th>\n",
       "      <td>353.1</td>\n",
       "      <td>310.2</td>\n",
       "    </tr>\n",
       "    <tr>\n",
       "      <th>3</th>\n",
       "      <td>253.3</td>\n",
       "      <td>422.0</td>\n",
       "    </tr>\n",
       "    <tr>\n",
       "      <th>4</th>\n",
       "      <td>169.9</td>\n",
       "      <td>454.2</td>\n",
       "    </tr>\n",
       "  </tbody>\n",
       "</table>\n",
       "</div>"
      ],
      "text/plain": [
       "       x      y\n",
       "0  102.9  424.9\n",
       "1  142.0  353.1\n",
       "2  353.1  310.2\n",
       "3  253.3  422.0\n",
       "4  169.9  454.2"
      ]
     },
     "execution_count": 2,
     "metadata": {},
     "output_type": "execute_result"
    }
   ],
   "source": [
    "path = \"../data_lab4/indep/5Prak.txt\"\n",
    "columns = ['x','y']\n",
    "df = pd.read_csv(path, delimiter=\" \", header=None, names=columns)\n",
    "df.head()"
   ]
  },
  {
   "cell_type": "markdown",
   "id": "3b2444f4-800d-45bb-97f3-95145a183e4e",
   "metadata": {},
   "source": [
    "## Creating class for calculation quantiles"
   ]
  },
  {
   "cell_type": "code",
   "execution_count": 3,
   "id": "a2e10ae4-6307-4246-becc-d2e1ed9f3b5a",
   "metadata": {},
   "outputs": [],
   "source": [
    "# Коефіцієнти для формули\n",
    "C0 = 2.515_517\n",
    "C1 = 0.802_853\n",
    "C2 = 0.010_328\n",
    "D1 = 1.432_788\n",
    "D2 = 0.189_265_9\n",
    "D3 = 0.001_308\n",
    "\n",
    "class Quantile:\n",
    "    \n",
    "    @classmethod\n",
    "    def calculate_quantile(cls, p):\n",
    "        if p > 0.5:\n",
    "            t = np.sqrt(-2 * np.log(1 - p))\n",
    "            quantile = (t - ((C0 + C1 * t + C2 * t ** 2) / (1 + D1 * t + D2 * t ** 2 + D3 * t ** 3)))\n",
    "        else:\n",
    "            t = np.sqrt(-2 * np.log(p))\n",
    "            quantile = -(t - ((C0 + C1 * t + C2 * t ** 2) / (1 + D1 * t + D2 * t ** 2 + D3 * t ** 3)))\n",
    "\n",
    "        return quantile\n",
    "        \n",
    "    @staticmethod\n",
    "    def student_quantile(p, v):\n",
    "        up = Quantile.calculate_quantile(p)\n",
    "        tpv = up + (1 / v) * (1 / 4) * (up ** 3 + up) + (1 / v ** 2) * (1 / 96) * (\n",
    "            5 * up ** 5 + 16 * up ** 3 + 3 * up) + (1 / v ** 3) * (1 / 384) * (\n",
    "                  3 * up ** 7 + 19 * up ** 5 + 17 * up ** 3 - 15 * up) + (1 / v ** 4) * (1 / 92_160) * (\n",
    "                  79 * up ** 9 + 779 * up ** 7 + 1_482 * up ** 5 - 1_920 * up ** 3 - 945 * up)\n",
    "        return tpv\n",
    "    \n",
    "    @staticmethod\n",
    "    def fisher_quantile(p ,v1, v2):\n",
    "        up = Quantile.calculate_quantile(p)   \n",
    "\n",
    "        sigma = 1/v1 + 1/v2\n",
    "        delta = 1/v1 - 1/v2\n",
    "        \n",
    "        z = (up * np.sqrt(sigma / 2) -\n",
    "         (1 / 6) * delta * (up**2 + 2) +\n",
    "         np.sqrt(sigma / 2) * (sigma / 24 * (up**2 + 3 * up) + (1 / 72) * (delta**2 / sigma) * (up**3 + 11 * up)) -\n",
    "         (sigma * delta / 120) * (up**4 + 9 * up**2 + 8) +\n",
    "         (delta**3 / (3240 * sigma)) * (3 * up**4 + 7 * up**2 - 16) +\n",
    "         np.sqrt(sigma / 2) * (sigma**2 / 1920 * (up**5 + 20 * up**3 + 15 * up)) +\n",
    "         (delta**4 / 2880) * (up**5 + 44 * up**3 + 183 * up) +\n",
    "         (delta**5 / (155520 * sigma**2)) * (9 * up**5 + 284 * up**3 + 1513 * up)\n",
    "        )\n",
    "\n",
    "        return np.exp(2*z)"
   ]
  },
  {
   "cell_type": "markdown",
   "id": "b7b2140e-548d-4096-bf51-8799afdcf926",
   "metadata": {},
   "source": [
    "## Критерії перевірки однорідності двох залежних вибірок: критерії перевірки рівності дисперсій та середніх + критерій знакових рангів Вілкоксона"
   ]
  },
  {
   "cell_type": "code",
   "execution_count": 4,
   "id": "038dd0cc-16e9-44ae-aad3-df71273725d8",
   "metadata": {},
   "outputs": [],
   "source": [
    "class DependentSamples:\n",
    "    @classmethod\n",
    "    def create_thrird_sample(cls, df):\n",
    "        df['z'] = df['x']-df['y']\n",
    "\n",
    "        z_mean = np.mean(df['z'])\n",
    "        z_std = np.std(df['z'], ddof=1)\n",
    "       \n",
    "        return DependentSamples.calculate_t(len(df)-1, z_mean, z_std)\n",
    "\n",
    "    @classmethod\n",
    "    def calculate_t(cls, length, z_mean, z_std):\n",
    "        t = z_mean*np.sqrt(length)/z_std\n",
    "        return DependentSamples.is_mean_equal(t, length-1)\n",
    "\n",
    "    @classmethod\n",
    "    def is_mean_equal(cls, t, n):\n",
    "        print('t equals: '+str(t))\n",
    "        print('Quantile: '+str(Quantile.student_quantile(1-0.05/2, n)))\n",
    "        return np.abs(t)<=Quantile.student_quantile(1-0.05/2, n)\n",
    "\n",
    "    # @classmethod\n",
    "    # def is_variances_equal(cls, t, n):\n",
    "    #     print('t equals: '+str(t))\n",
    "    #     print('Quantile: '+str(Quantile.student_quantile(1-0.05/2, n)))\n",
    "    #     return np.abs(t)<=Quantile.student_quantile(1-0.05/2, n)\n",
    "    \n",
    "    @classmethod\n",
    "    def calculate_statistic(cls, df):\n",
    "        squared_x_std = np.std(df['x'], ddof=1)**2\n",
    "        squared_y_std = np.std(df['y'], ddof=1)**2\n",
    "        if(squared_x_std>=squared_y_std):\n",
    "            f=squared_x_std/squared_y_std\n",
    "            v1 = df['x'].count() - 1\n",
    "            v2 = df['y'].count() - 1 \n",
    "        else:\n",
    "            f=squared_y_std/squared_x_std\n",
    "            v1 = df['y'].count() - 1 \n",
    "            v2 = df['x'].count() - 1\n",
    "        \n",
    "        #check is variances coincide\n",
    "        f_fisher = Quantile.fisher_quantile(0.95,v1,v2)\n",
    "        print('F:' +str(f))\n",
    "        print('F fisher:' +str(f_fisher))\n",
    "        return f<=f_fisher\n",
    "        \n",
    "    @staticmethod\n",
    "    def check_for_homogeneity(df):\n",
    "        mean_equal = DependentSamples.create_thrird_sample(df)\n",
    "        varians_equal = DependentSamples.calculate_statistic(df)\n",
    "        print('Is mean equals: '+str(mean_equal))\n",
    "        print('Is varians equals: '+str(varians_equal))"
   ]
  },
  {
   "cell_type": "markdown",
   "id": "a8615583-00e5-4182-b458-9ad02f6f5173",
   "metadata": {},
   "source": [
    "#### Test"
   ]
  },
  {
   "cell_type": "code",
   "execution_count": 5,
   "id": "548b86f4-92cf-4b6b-8dc4-8296ef8cc3a1",
   "metadata": {},
   "outputs": [
    {
     "name": "stdout",
     "output_type": "stream",
     "text": [
      "t equals: -3.7035508041843515\n",
      "Quantile: 2.447544124742589\n",
      "F:2.756852676299814\n",
      "F fisher:4.135508578777062\n",
      "Is mean equals: False\n",
      "Is varians equals: True\n"
     ]
    },
    {
     "data": {
      "text/plain": [
       "{102.9: 0,\n",
       " 142.0: 0,\n",
       " 353.1: 1.5,\n",
       " 253.3: 0,\n",
       " 169.9: 0,\n",
       " 234.4: 0,\n",
       " 277.9: 0,\n",
       " 175.8: 0}"
      ]
     },
     "execution_count": 5,
     "metadata": {},
     "output_type": "execute_result"
    }
   ],
   "source": [
    "DependentSamples.check_for_homogeneity(df)\n",
    "DependentSamples.calculate_rank_with_mann_whitney(df)"
   ]
  },
  {
   "cell_type": "markdown",
   "id": "57ef62bf-00b2-47f3-bf7e-efe43f647889",
   "metadata": {},
   "source": [
    "## Критерії перевірки однорідності двох незалежних вибірок: критерії перевірки рівності дисперсій та середніх + ранговий критерій, заданий індивідуальним варіантом."
   ]
  },
  {
   "cell_type": "code",
   "execution_count": 6,
   "id": "6a60d5f8-640d-422e-b63c-9e57fbf645b6",
   "metadata": {},
   "outputs": [],
   "source": [
    "class IndependentSamples:\n",
    "    @classmethod\n",
    "    def calculate_weighted_average_and_t(cls, df):\n",
    "        x_mean = np.mean(df['x'])\n",
    "        y_mean = np.mean(df['y'])\n",
    "        x_dispersion = np.std(df['x'], ddof=1)**2\n",
    "        y_dispersion = np.std(df['y'], ddof=1)**2\n",
    "        x_n =df['x'].count()\n",
    "        y_n =df['y'].count()\n",
    "\n",
    "        weighted_average = ((x_n-1)*x_dispersion+(y_n-1)*y_dispersion)/(x_n+y_n-2)\n",
    "        t = (x_mean-y_mean)/(np.sqrt(weighted_average/x_n+weighted_average/y_n))\n",
    "        print('weighted average: '+str(weighted_average))\n",
    "        print('t equals: '+str(t))\n",
    "        return IndependentSamples.is_mean_equal(t, x_n+y_n-2)\n",
    "\n",
    "    @classmethod\n",
    "    def is_mean_equal(cls, t, v):\n",
    "        print('Quantile: '+str(Quantile.student_quantile(1-0.05/2, v)))\n",
    "        return np.abs(t)<=Quantile.student_quantile(1-0.05/2, v)\n",
    "\n",
    "    @classmethod\n",
    "    def calculate_criterion_with_Welch_correction(cls, df):\n",
    "        x_mean = np.mean(df['x'])\n",
    "        y_mean = np.mean(df['y'])\n",
    "        x_dispersion = np.std(df['x'], ddof=1)**2\n",
    "        y_dispersion = np.std(df['y'], ddof=1)**2\n",
    "        x_n =df['x'].count()\n",
    "        y_n =df['y'].count()\n",
    "        t = (x_mean-y_mean)/(np.sqrt(x_dispersion/x_n+y_dispersion/y_n))\n",
    "        v = (x_dispersion/x_n+y_dispersion/y_n)**2*((1/(x_n-1)*(x_dispersion/x_n)**2)+(1/(y_n-1)*(y_dispersion/y_n)**2))**-1\n",
    "        print('v: '+str(v))\n",
    "        return IndependentSamples.is_mean_equal(t, v)\n",
    "    \n",
    "    @staticmethod\n",
    "    def check_for_homogeneity(df,variance):\n",
    "        if variance:\n",
    "            return IndependentSamples.calculate_weighted_average_and_t(df)\n",
    "        else:\n",
    "            return IndependentSamples.calculate_criterion_with_Welch_correction(df)\n",
    "\n",
    "    @staticmethod\n",
    "        def calculate_rank_with_mann_whitney(df):\n",
    "            result = {}\n",
    "            for x_val in df['x']:\n",
    "                inversions = 0\n",
    "                for y_val in df['y']:\n",
    "                    if y_val < x_val:\n",
    "                        inversions += 1\n",
    "                    elif y_val == x_val:\n",
    "                        inversions += 0.5  # Розглядаємо рівні значення як півінверсії\n",
    "                result[x_val] = inversions\n",
    "            return result"
   ]
  },
  {
   "cell_type": "markdown",
   "id": "6aa98b64-5c9a-4e07-a132-40b270773ad0",
   "metadata": {},
   "source": [
    "#### Test"
   ]
  },
  {
   "cell_type": "code",
   "execution_count": 7,
   "id": "fd578ddd-4d5d-47ef-80bf-1116b86c6978",
   "metadata": {},
   "outputs": [
    {
     "name": "stdout",
     "output_type": "stream",
     "text": [
      "F:2.756852676299814\n",
      "F fisher:4.135508578777062\n",
      "weighted average: 4671.190233516483\n",
      "t equals: -4.974661619949333\n",
      "Quantile: 2.1609142123446516\n"
     ]
    },
    {
     "data": {
      "text/plain": [
       "False"
      ]
     },
     "execution_count": 7,
     "metadata": {},
     "output_type": "execute_result"
    }
   ],
   "source": [
    "IndependentSamples.check_for_homogeneity(df, DependentSamples.calculate_statistic(df))"
   ]
  },
  {
   "cell_type": "markdown",
   "id": "4ccb5292-2ec6-4b8c-9f80-49eed8c042c9",
   "metadata": {},
   "source": [
    "### Check wheather distribution normal or not"
   ]
  },
  {
   "cell_type": "code",
   "execution_count": 8,
   "id": "1215a2e3-5da0-48b1-83ab-b7f9cff89c99",
   "metadata": {},
   "outputs": [
    {
     "name": "stdout",
     "output_type": "stream",
     "text": [
      "True\n"
     ]
    }
   ],
   "source": [
    "alpha = 0.05\n",
    "# Shapiro-Wilk test for 'x'\n",
    "statistic_x, p_value_x = stats.shapiro(df['x'])\n",
    "normal_x = p_value_x > alpha\n",
    "\n",
    "# Shapiro-Wilk test for 'y'\n",
    "statistic_y, p_value_y = stats.shapiro(df['y'])\n",
    "normal_y = p_value_y > alpha\n",
    "\n",
    "if normal_x and normal_y:\n",
    "    normal =True;\n",
    "else:\n",
    "    normal =False;\n",
    "\n",
    "print(normal)"
   ]
  },
  {
   "cell_type": "markdown",
   "id": "53585765-194f-40ad-8357-ecd2635e5a60",
   "metadata": {},
   "source": [
    "### Checking the equality of variances"
   ]
  },
  {
   "cell_type": "code",
   "execution_count": 9,
   "id": "adbd3e3d-c61f-4105-aa41-64197d058b0d",
   "metadata": {},
   "outputs": [
    {
     "name": "stdout",
     "output_type": "stream",
     "text": [
      "Mean for 1 column: 213.66250000000002\n",
      "Mean for 2 column: 389.6285714285714\n",
      "STD for 1 column: 6617.574107142857\n",
      "STD for 2 column: 2400.409047619047\n"
     ]
    }
   ],
   "source": [
    "x_mean = np.mean(df['x'])\n",
    "y_mean = np.mean(df['y'])\n",
    "squared_x_std = np.std(df['x'], ddof=1)**2\n",
    "squared_y_std = np.std(df['y'], ddof=1)**2\n",
    "print(\"Mean for 1 column: \"+ str(x_mean))\n",
    "print(\"Mean for 2 column: \"+ str(y_mean))\n",
    "print(\"STD for 1 column: \"+ str(squared_x_std))\n",
    "print(\"STD for 2 column: \"+ str(squared_y_std))"
   ]
  },
  {
   "cell_type": "markdown",
   "id": "1f5a0659-24df-4a89-a9dd-646dd5f36f64",
   "metadata": {},
   "source": [
    "#### Calculate P value with CDF(using student quantile)"
   ]
  },
  {
   "cell_type": "markdown",
   "id": "9667e626-1679-463a-b56b-5f14cd724b2e",
   "metadata": {},
   "source": [
    "### Calculate paired t-test"
   ]
  },
  {
   "cell_type": "code",
   "execution_count": 10,
   "id": "e1a56174-9399-4630-8bbf-8246b2261a94",
   "metadata": {},
   "outputs": [
    {
     "data": {
      "text/plain": [
       "4.135508578777062"
      ]
     },
     "execution_count": 10,
     "metadata": {},
     "output_type": "execute_result"
    }
   ],
   "source": [
    "v1 = df['x'].count() - 1\n",
    "v2 = df['y'].count() - 1 \n",
    "\n",
    "Quantile.fisher_quantile(0.95,v1,v2)\n"
   ]
  },
  {
   "cell_type": "code",
   "execution_count": 11,
   "id": "112834e7-0d08-4fd2-9bb0-da7db8ceabad",
   "metadata": {},
   "outputs": [],
   "source": [
    "F = (squared_x_std/squared_y_std)\n",
    "if(normal):\n",
    "    2\n",
    "elif(f>1):\n",
    "    print(\"F equalse: \" + str(F))\n",
    "    2"
   ]
  }
 ],
 "metadata": {
  "kernelspec": {
   "display_name": "Python 3 (ipykernel)",
   "language": "python",
   "name": "python3"
  },
  "language_info": {
   "codemirror_mode": {
    "name": "ipython",
    "version": 3
   },
   "file_extension": ".py",
   "mimetype": "text/x-python",
   "name": "python",
   "nbconvert_exporter": "python",
   "pygments_lexer": "ipython3",
   "version": "3.11.5"
  }
 },
 "nbformat": 4,
 "nbformat_minor": 5
}
