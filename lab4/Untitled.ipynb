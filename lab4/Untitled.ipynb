{
 "cells": [
  {
   "cell_type": "markdown",
   "id": "50ac981a-5f02-4f16-856a-06cacf17c05b",
   "metadata": {},
   "source": [
    "# Importing libraries"
   ]
  },
  {
   "cell_type": "code",
   "execution_count": 1,
   "id": "bc4efb84-759c-4529-b423-4cf8e1f5448f",
   "metadata": {},
   "outputs": [],
   "source": [
    "import pandas as pd\n",
    "import numpy as np\n",
    "import matplotlib.pyplot as plt\n",
    "import seaborn as sns\n",
    "from scipy import stats"
   ]
  },
  {
   "cell_type": "markdown",
   "id": "8a5be6f9-9453-460e-b67d-0f40caf3a786",
   "metadata": {},
   "source": [
    "## 1.Завантаження залежних та незалежних вибірок з текстових файлів. "
   ]
  },
  {
   "cell_type": "code",
   "execution_count": 18,
   "id": "f95aae76-15f9-4ddf-8606-ad4c7110bb7b",
   "metadata": {},
   "outputs": [
    {
     "data": {
      "text/html": [
       "<div>\n",
       "<style scoped>\n",
       "    .dataframe tbody tr th:only-of-type {\n",
       "        vertical-align: middle;\n",
       "    }\n",
       "\n",
       "    .dataframe tbody tr th {\n",
       "        vertical-align: top;\n",
       "    }\n",
       "\n",
       "    .dataframe thead th {\n",
       "        text-align: right;\n",
       "    }\n",
       "</style>\n",
       "<table border=\"1\" class=\"dataframe\">\n",
       "  <thead>\n",
       "    <tr style=\"text-align: right;\">\n",
       "      <th></th>\n",
       "      <th>x</th>\n",
       "      <th>y</th>\n",
       "    </tr>\n",
       "  </thead>\n",
       "  <tbody>\n",
       "    <tr>\n",
       "      <th>0</th>\n",
       "      <td>86</td>\n",
       "      <td>187</td>\n",
       "    </tr>\n",
       "    <tr>\n",
       "      <th>1</th>\n",
       "      <td>78</td>\n",
       "      <td>187</td>\n",
       "    </tr>\n",
       "    <tr>\n",
       "      <th>2</th>\n",
       "      <td>642</td>\n",
       "      <td>653</td>\n",
       "    </tr>\n",
       "    <tr>\n",
       "      <th>3</th>\n",
       "      <td>192</td>\n",
       "      <td>336</td>\n",
       "    </tr>\n",
       "    <tr>\n",
       "      <th>4</th>\n",
       "      <td>571</td>\n",
       "      <td>466</td>\n",
       "    </tr>\n",
       "  </tbody>\n",
       "</table>\n",
       "</div>"
      ],
      "text/plain": [
       "     x    y\n",
       "0   86  187\n",
       "1   78  187\n",
       "2  642  653\n",
       "3  192  336\n",
       "4  571  466"
      ]
     },
     "execution_count": 18,
     "metadata": {},
     "output_type": "execute_result"
    }
   ],
   "source": [
    "path = \"../data_lab4/dep/4Prak.txt\"\n",
    "columns = ['x','y']\n",
    "df = pd.read_csv(path, delimiter=\" \", header=None, names=columns)\n",
    "df.head()"
   ]
  },
  {
   "cell_type": "markdown",
   "id": "b7b2140e-548d-4096-bf51-8799afdcf926",
   "metadata": {},
   "source": [
    "## Критерії перевірки однорідності двох залежних вибірок: критерії перевірки рівності дисперсій та середніх + критерій знакових рангів Вілкоксона"
   ]
  },
  {
   "cell_type": "code",
   "execution_count": 27,
   "id": "038dd0cc-16e9-44ae-aad3-df71273725d8",
   "metadata": {},
   "outputs": [],
   "source": [
    "class DependentSamples:\n",
    "    @classmethod\n",
    "    def create_thrird_sample(cls, df):\n",
    "        df['z'] = df['x']-df['y']\n",
    "\n",
    "        z_mean = np.mean(df['z'])\n",
    "        squared_z_std = np.std(df['z'], ddof=1)\n",
    "       \n",
    "        return DependentSamples.calculate_t(len(df)-1, z_mean, squared_z_std)\n",
    "\n",
    "    @classmethod\n",
    "    def calculate_t(cls, length, z_mean, squared_z_std):\n",
    "        return z_mean*np.sqrt(length)/squared_z_std\n",
    "        \n",
    "    @staticmethod\n",
    "    def check_for_homogeneity(df):\n",
    "        return DependentSamples.create_thrird_sample(df)"
   ]
  },
  {
   "cell_type": "code",
   "execution_count": 28,
   "id": "548b86f4-92cf-4b6b-8dc4-8296ef8cc3a1",
   "metadata": {},
   "outputs": [
    {
     "data": {
      "text/plain": [
       "0.44087361536851716"
      ]
     },
     "execution_count": 28,
     "metadata": {},
     "output_type": "execute_result"
    }
   ],
   "source": [
    "DependentSamples.check_for_homogeneity(df)"
   ]
  },
  {
   "cell_type": "markdown",
   "id": "57ef62bf-00b2-47f3-bf7e-efe43f647889",
   "metadata": {},
   "source": [
    "## Критерії перевірки однорідності двох незалежних вибірок: критерії перевірки рівності дисперсій та середніх + ранговий критерій, заданий індивідуальним варіантом."
   ]
  },
  {
   "cell_type": "markdown",
   "id": "4ccb5292-2ec6-4b8c-9f80-49eed8c042c9",
   "metadata": {},
   "source": [
    "### Check wheather distribution normal or not"
   ]
  },
  {
   "cell_type": "code",
   "execution_count": 13,
   "id": "1215a2e3-5da0-48b1-83ab-b7f9cff89c99",
   "metadata": {},
   "outputs": [
    {
     "name": "stdout",
     "output_type": "stream",
     "text": [
      "True\n"
     ]
    }
   ],
   "source": [
    "alpha = 0.05\n",
    "# Shapiro-Wilk test for 'x'\n",
    "statistic_x, p_value_x = stats.shapiro(df['x'])\n",
    "is_normal_x = p_value_x > alpha\n",
    "\n",
    "# Shapiro-Wilk test for 'y'\n",
    "statistic_y, p_value_y = stats.shapiro(df['y'])\n",
    "is_normal_y = p_value_y > alpha\n",
    "\n",
    "if is_normal_x and is_normal_y:\n",
    "    is_normal =True;\n",
    "else:\n",
    "    is_normal =False;\n",
    "\n",
    "print(is_normal)"
   ]
  },
  {
   "cell_type": "markdown",
   "id": "53585765-194f-40ad-8357-ecd2635e5a60",
   "metadata": {},
   "source": [
    "### Checking the equality of variances"
   ]
  },
  {
   "cell_type": "code",
   "execution_count": null,
   "id": "adbd3e3d-c61f-4105-aa41-64197d058b0d",
   "metadata": {},
   "outputs": [],
   "source": [
    "x_mean = np.mean(df['x'])\n",
    "y_mean = np.mean(df['y'])\n",
    "squared_x_std = np.std(df['x'], ddof=1)**2\n",
    "squared_y_std = np.std(df['y'], ddof=1)**2\n",
    "print(\"Mean for 1 column: \"+ str(x_mean))\n",
    "print(\"Mean for 2 column: \"+ str(y_mean))\n",
    "print(\"STD for 1 column: \"+ str(squared_x_std))\n",
    "print(\"STD for 2 column: \"+ str(squared_y_std))"
   ]
  },
  {
   "cell_type": "code",
   "execution_count": null,
   "id": "e4f4fb47-41df-4faf-91d1-7c5e98ecd878",
   "metadata": {},
   "outputs": [],
   "source": []
  },
  {
   "cell_type": "code",
   "execution_count": null,
   "id": "a2e10ae4-6307-4246-becc-d2e1ed9f3b5a",
   "metadata": {},
   "outputs": [],
   "source": [
    "# Коефіцієнти для формули\n",
    "C0 = 2.515_517\n",
    "C1 = 0.802_853\n",
    "C2 = 0.010_328\n",
    "D1 = 1.432_788\n",
    "D2 = 0.189_265_9\n",
    "D3 = 0.001_308\n",
    "\n",
    "class Quantile:\n",
    "    \n",
    "    @classmethod\n",
    "    def calculate_quantile(cls, p):\n",
    "        if p > 0.5:\n",
    "            t = np.sqrt(-2 * np.log(1 - p))\n",
    "            quantile = (t - ((C0 + C1 * t + C2 * t ** 2) / (1 + D1 * t + D2 * t ** 2 + D3 * t ** 3)))\n",
    "        else:\n",
    "            t = np.sqrt(-2 * np.log(p))\n",
    "            quantile = -(t - ((C0 + C1 * t + C2 * t ** 2) / (1 + D1 * t + D2 * t ** 2 + D3 * t ** 3)))\n",
    "\n",
    "        return quantile\n",
    "    @staticmethod\n",
    "    def student_quantile(self, p, v):\n",
    "        up = Quantile.calculate_quantile(p)\n",
    "        tpv = up + (1 / v) * (1 / 4) * (up ** 3 + up) + (1 / v ** 2) * (1 / 96) * (\n",
    "            5 * up ** 5 + 16 * up ** 3 + 3 * up) + (1 / v ** 3) * (1 / 384) * (\n",
    "                  3 * up ** 7 + 19 * up ** 5 + 17 * up ** 3 - 15 * up) + (1 / v ** 4) * (1 / 92_160) * (\n",
    "                  79 * up ** 9 + 779 * up ** 7 + 1_482 * up ** 5 - 1_920 * up ** 3 - 945 * up)\n",
    "        return tpv\n",
    "    \n",
    "    @staticmethod\n",
    "    def fisher_quantile(p ,v1, v2):\n",
    "        up = Quantile.calculate_quantile(p)   \n",
    "\n",
    "        sigma = 1/v1 + 1/v2\n",
    "        delta = 1/v1 - 1/v2\n",
    "        \n",
    "        z = (up * np.sqrt(sigma / 2) -\n",
    "         (1 / 6) * delta * (up**2 + 2) +\n",
    "         np.sqrt(sigma / 2) * (sigma / 24 * (up**2 + 3 * up) + (1 / 72) * (delta**2 / sigma) * (up**3 + 11 * up)) -\n",
    "         (sigma * delta / 120) * (up**4 + 9 * up**2 + 8) +\n",
    "         (delta**3 / (3240 * sigma)) * (3 * up**4 + 7 * up**2 - 16) +\n",
    "         np.sqrt(sigma / 2) * (sigma**2 / 1920 * (up**5 + 20 * up**3 + 15 * up)) +\n",
    "         (delta**4 / 2880) * (up**5 + 44 * up**3 + 183 * up) +\n",
    "         (delta**5 / (155520 * sigma**2)) * (9 * up**5 + 284 * up**3 + 1513 * up)\n",
    "        )\n",
    "\n",
    "        return np.exp(2*z)"
   ]
  },
  {
   "cell_type": "markdown",
   "id": "1f5a0659-24df-4a89-a9dd-646dd5f36f64",
   "metadata": {},
   "source": [
    "#### Calculate P value with CDF(using student quantile)"
   ]
  },
  {
   "cell_type": "markdown",
   "id": "9667e626-1679-463a-b56b-5f14cd724b2e",
   "metadata": {},
   "source": [
    "### Calculate paired t-test"
   ]
  },
  {
   "cell_type": "code",
   "execution_count": null,
   "id": "e1a56174-9399-4630-8bbf-8246b2261a94",
   "metadata": {},
   "outputs": [],
   "source": [
    "p = 2(1-Quantile.student_quantile()\n",
    "v1 = df['x'].count() - 1\n",
    "v2 = df['y'].count() - 1 \n",
    "\n",
    "Quantile.fisher_quantile(0.95,v1,v2)\n"
   ]
  },
  {
   "cell_type": "code",
   "execution_count": null,
   "id": "112834e7-0d08-4fd2-9bb0-da7db8ceabad",
   "metadata": {},
   "outputs": [],
   "source": [
    "F = (squared_x_std/squared_y_std)\n",
    "if(is_normal)\n",
    "    2\n",
    "elif(f>1)\n",
    "print(\"F equalse: \" + str(F))\n",
    "    2"
   ]
  }
 ],
 "metadata": {
  "kernelspec": {
   "display_name": "Python 3 (ipykernel)",
   "language": "python",
   "name": "python3"
  },
  "language_info": {
   "codemirror_mode": {
    "name": "ipython",
    "version": 3
   },
   "file_extension": ".py",
   "mimetype": "text/x-python",
   "name": "python",
   "nbconvert_exporter": "python",
   "pygments_lexer": "ipython3",
   "version": "3.11.5"
  }
 },
 "nbformat": 4,
 "nbformat_minor": 5
}
