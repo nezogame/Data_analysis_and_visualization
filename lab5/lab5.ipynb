{
 "cells": [
  {
   "cell_type": "markdown",
   "id": "5mkQpEtUJh35",
   "metadata": {
    "id": "5mkQpEtUJh35"
   },
   "source": [
    "#Завантаження бибоиотек\n"
   ]
  },
  {
   "cell_type": "code",
   "execution_count": 1,
   "id": "rdZLTUkIHshe",
   "metadata": {
    "colab": {
     "base_uri": "https://localhost:8080/"
    },
    "executionInfo": {
     "elapsed": 3474,
     "status": "ok",
     "timestamp": 1710932132334,
     "user": {
      "displayName": "Гудимов Денис",
      "userId": "03563364247437405013"
     },
     "user_tz": -120
    },
    "id": "rdZLTUkIHshe",
    "outputId": "e479a0f5-944f-4d21-c1ba-6824f6ac1619"
   },
   "outputs": [],
   "source": [
    "import pandas as pd\n",
    "import numpy as np\n",
    "import matplotlib.pyplot as plt\n",
    "import seaborn as sns\n",
    "import os\n",
    "from scipy import stats"
   ]
  },
  {
   "cell_type": "code",
   "execution_count": 2,
   "id": "3b05d556-8c48-4535-a125-e103bd36354b",
   "metadata": {},
   "outputs": [],
   "source": [
    "# Коефіцієнти для формули\n",
    "C0 = 2.515_517\n",
    "C1 = 0.802_853\n",
    "C2 = 0.010_328\n",
    "D1 = 1.432_788\n",
    "D2 = 0.189_265_9\n",
    "D3 = 0.001_308\n",
    "\n",
    "class Quantile:\n",
    "\n",
    "    @classmethod\n",
    "    def calculate_quantile(cls, p):\n",
    "        if p > 0.5:\n",
    "            t = np.sqrt(-2 * np.log(1 - p))\n",
    "            quantile = (t - ((C0 + C1 * t + C2 * t ** 2) / (1 + D1 * t + D2 * t ** 2 + D3 * t ** 3)))\n",
    "        else:\n",
    "            t = np.sqrt(-2 * np.log(p))\n",
    "            quantile = -(t - ((C0 + C1 * t + C2 * t ** 2) / (1 + D1 * t + D2 * t ** 2 + D3 * t ** 3)))\n",
    "\n",
    "        return quantile\n",
    "\n",
    "    @staticmethod\n",
    "    def student_quantile(p, v):\n",
    "        up = Quantile.calculate_quantile(p)\n",
    "        tpv = up + (1 / v) * (1 / 4) * (up ** 3 + up) + (1 / v ** 2) * (1 / 96) * (\n",
    "            5 * up ** 5 + 16 * up ** 3 + 3 * up) + (1 / v ** 3) * (1 / 384) * (\n",
    "                  3 * up ** 7 + 19 * up ** 5 + 17 * up ** 3 - 15 * up) + (1 / v ** 4) * (1 / 92_160) * (\n",
    "                  79 * up ** 9 + 779 * up ** 7 + 1_482 * up ** 5 - 1_920 * up ** 3 - 945 * up)\n",
    "        return tpv\n",
    "\n",
    "    @staticmethod\n",
    "    def fisher_quantile(p ,v1, v2):\n",
    "        up = Quantile.calculate_quantile(p)\n",
    "\n",
    "        sigma = 1/v1 + 1/v2\n",
    "        delta = 1/v1 - 1/v2\n",
    "\n",
    "        z = (up * np.sqrt(sigma / 2) -\n",
    "         (1 / 6) * delta * (up**2 + 2) +\n",
    "         np.sqrt(sigma / 2) * (sigma / 24 * (up**2 + 3 * up) + (1 / 72) * (delta**2 / sigma) * (up**3 + 11 * up)) -\n",
    "         (sigma * delta / 120) * (up**4 + 9 * up**2 + 8) +\n",
    "         (delta**3 / (3240 * sigma)) * (3 * up**4 + 7 * up**2 - 16) +\n",
    "         np.sqrt(sigma / 2) * (sigma**2 / 1920 * (up**5 + 20 * up**3 + 15 * up)) +\n",
    "         (delta**4 / 2880) * (up**5 + 44 * up**3 + 183 * up) +\n",
    "         (delta**5 / (155520 * sigma**2)) * (9 * up**5 + 284 * up**3 + 1513 * up)\n",
    "        )\n",
    "\n",
    "        return np.exp(2*z)"
   ]
  },
  {
   "cell_type": "markdown",
   "id": "4gRMRt-SJhOl",
   "metadata": {
    "id": "4gRMRt-SJhOl"
   },
   "source": [
    "## 1.Завантаження даних з файлу"
   ]
  },
  {
   "cell_type": "code",
   "execution_count": 3,
   "id": "Vq9_cm1kJtdi",
   "metadata": {
    "colab": {
     "base_uri": "https://localhost:8080/"
    },
    "executionInfo": {
     "elapsed": 262,
     "status": "ok",
     "timestamp": 1710951201991,
     "user": {
      "displayName": "Гудимов Денис",
      "userId": "03563364247437405013"
     },
     "user_tz": -120
    },
    "id": "Vq9_cm1kJtdi",
    "outputId": "12b6bb6d-1056-40de-843f-169e30c306f5"
   },
   "outputs": [
    {
     "name": "stdout",
     "output_type": "stream",
     "text": [
      "         x        y\n",
      "0  12.1569  29.5125\n",
      "1   8.3589  25.7363\n",
      "2  12.3373  23.6503\n",
      "3  14.3351  27.5493\n",
      "4  10.5194  27.1966\n"
     ]
    },
    {
     "name": "stderr",
     "output_type": "stream",
     "text": [
      "C:\\Users\\Denys\\AppData\\Local\\Temp\\ipykernel_20008\\2736191813.py:4: ParserWarning: Falling back to the 'python' engine because the 'c' engine does not support regex separators (separators > 1 char and different from '\\s+' are interpreted as regex); you can avoid this warning by specifying engine='python'.\n",
      "  df = pd.read_csv(path, delimiter=\"      \", header=None, names=columns)\n"
     ]
    }
   ],
   "source": [
    "path = \"../lab5/data_lab1,2/lin0.4.txt\"\n",
    "columns = ['x','y']\n",
    "delimiter='      ';\n",
    "df = pd.read_csv(path, delimiter=\"      \", header=None, names=columns)\n",
    "print(df.head())"
   ]
  },
  {
   "cell_type": "markdown",
   "id": "W0jeigAtPjvT",
   "metadata": {
    "id": "W0jeigAtPjvT"
   },
   "source": [
    "### Method for calculating correlation"
   ]
  },
  {
   "cell_type": "code",
   "execution_count": 4,
   "id": "2nxddfItPhhd",
   "metadata": {
    "executionInfo": {
     "elapsed": 421,
     "status": "ok",
     "timestamp": 1710946658719,
     "user": {
      "displayName": "Гудимов Денис",
      "userId": "03563364247437405013"
     },
     "user_tz": -120
    },
    "id": "2nxddfItPhhd"
   },
   "outputs": [],
   "source": [
    "def pearson_correlation(X,Y):\n",
    "    if len(X)==len(Y):\n",
    "        Sum_xy = sum((X-X.mean())*(Y-Y.mean()))\n",
    "        Sum_x_squared = sum((X-X.mean())**2)\n",
    "        Sum_y_squared = sum((Y-Y.mean())**2)\n",
    "        corr = Sum_xy / np.sqrt(Sum_x_squared * Sum_y_squared)\n",
    "    return corr"
   ]
  },
  {
   "cell_type": "markdown",
   "id": "Jg0BUaEjn3VR",
   "metadata": {
    "id": "Jg0BUaEjn3VR"
   },
   "source": [
    "#Creating class for calculation quantiles"
   ]
  },
  {
   "cell_type": "markdown",
   "id": "L5AqHn6Vaq36",
   "metadata": {
    "id": "L5AqHn6Vaq36"
   },
   "source": [
    "### Creating class for calculating a Quantitative Characteristics"
   ]
  },
  {
   "cell_type": "code",
   "execution_count": 5,
   "id": "9U763nCfagCe",
   "metadata": {
    "executionInfo": {
     "elapsed": 385,
     "status": "ok",
     "timestamp": 1710951032433,
     "user": {
      "displayName": "Гудимов Денис",
      "userId": "03563364247437405013"
     },
     "user_tz": -120
    },
    "id": "9U763nCfagCe"
   },
   "outputs": [],
   "source": [
    "class QuantitativeCharacteristics:\n",
    "\n",
    "    def __init__(self,sample):\n",
    "        self.sample = sample\n",
    "        self.characteristic_fields_map = [\"Mean\", \"Median\", \"Std\", \"Skewness\", \"Kurtosis\", \"Min\", \"Max\"]\n",
    "        self.characteristic_table_dictionary = dict()\n",
    "        self.mean = None\n",
    "        self.std_deviation = None\n",
    "        self.a = None\n",
    "        self.e = None\n",
    "        self.sa = None\n",
    "        self.se = None\n",
    "\n",
    "    def add_to_dictionary(self, column_name, column_data):\n",
    "        self.characteristic_table_dictionary.update({column_name: column_data})\n",
    "\n",
    "    def display(self):\n",
    "        self.add_characteristics()\n",
    "        return self.characteristic_table_dictionary\n",
    "\n",
    "    def add_characteristics(self):\n",
    "        estimation = self.calculate_estimation()\n",
    "        self.add_to_dictionary(\"Characteristic\", self.characteristic_fields_map)\n",
    "        self.add_to_dictionary(\"Estimation\", estimation.keys())\n",
    "        self.add_to_dictionary(\"SEM\", estimation.values())\n",
    "        confidence_intervals = self.calculate_confidence_interval(estimation)\n",
    "        self.add_to_dictionary(\"95% Confidence Interval\", confidence_intervals)\n",
    "\n",
    "    def calculate_confidence_interval(self, estimation: dict):\n",
    "        confidence_interval = list(range(0, 7))\n",
    "        median_conf_interval = self.calculate_median_confidence_interval(list(estimation.keys())[1])\n",
    "        confidence_interval[1] = f\"[{median_conf_interval[0]}; {median_conf_interval[1]}]\"\n",
    "        confidence_interval[5] = \"───\"\n",
    "        confidence_interval[6] = \"───\"\n",
    "\n",
    "        v = len(self.sample) - 1\n",
    "        student_quantile = Quantile.student_quantile(0.95, v)\n",
    "        print(\"student_quantile: \" + str(student_quantile))\n",
    "        i = 0\n",
    "        for key in estimation.keys():\n",
    "            if (estimation.get(key) == \"───\"):\n",
    "                i = i + 1\n",
    "                continue\n",
    "            upper_bound = round(key - student_quantile * estimation.get(key), 4)\n",
    "            lower_bound = round(key + student_quantile * estimation.get(key), 4)\n",
    "            confidence_interval[i] = f\"[{upper_bound}; {lower_bound}]\"\n",
    "\n",
    "            i = i + 1\n",
    "\n",
    "        return confidence_interval\n",
    "\n",
    "    def calculate_median_confidence_interval(self, median):\n",
    "        num_samples = 1000\n",
    "\n",
    "        bootstrap_samples = [np.random.choice(self.sample, size=len(self.sample), replace=True) for _ in\n",
    "                             range(num_samples)]\n",
    "\n",
    "        bootstrap_medians = np.median(bootstrap_samples, axis=1)\n",
    "\n",
    "        std_error_median = np.std(bootstrap_medians, ddof=1)\n",
    "        v = len(self.sample) - 1\n",
    "        student_quantile = Quantile.student_quantile(1 - 0.05 / 2, v)\n",
    "        lower_bound = round(median - student_quantile * std_error_median, 4)\n",
    "        upper_bound = round(median + student_quantile * std_error_median, 4)\n",
    "\n",
    "        return lower_bound, upper_bound\n",
    "\n",
    "    def calculate_normal_interval(self):\n",
    "        v = len(self.sample) - 1\n",
    "        student_quantile = Quantile.student_quantile(1 - 0.05 / 2, v)\n",
    "        lower_bound = round(self.mean - student_quantile * self.std_deviation, 4)\n",
    "        upper_bound = round(self.mean + student_quantile * self.std_deviation, 4)\n",
    "        return lower_bound, upper_bound\n",
    "\n",
    "    def calculate_estimation(self):\n",
    "        estimation_map = dict()\n",
    "        self.mean = round(np.mean(self.sample), 4)\n",
    "        median = round(np.median(self.sample), 4)\n",
    "        self.std_deviation = round(np.std(self.sample, ddof=1), 4)\n",
    "        self.a = round(stats.skew(self.sample), 4)\n",
    "        self.e = round(stats.kurtosis(self.sample), 4)\n",
    "        minimum = round(min(self.sample), 4)\n",
    "        maximum = round(max(self.sample), 4)\n",
    "\n",
    "        n_len = len(self.sample)\n",
    "        mean_std = round(self.std_deviation / np.sqrt(n_len), 4)\n",
    "        std_std_deviation = round(self.std_deviation / np.sqrt(2 * n_len), 4)\n",
    "        self.sa = round(np.sqrt(6 * n_len * (n_len - 1) / ((n_len - 2) * (n_len + 1) * (n_len + 3))), 4)\n",
    "        self.se = round(\n",
    "            np.sqrt(24 * n_len * (n_len - 1) ** 2 / ((n_len - 3) * (n_len - 2) * (n_len + 3) * (n_len + 5))), 4)\n",
    "\n",
    "        estimation_map[self.mean] = mean_std\n",
    "        estimation_map[median] = \"───\"\n",
    "        estimation_map[self.std_deviation] = std_std_deviation\n",
    "        estimation_map[self.a] = self.sa\n",
    "        estimation_map[self.e] = self.se\n",
    "        estimation_map[minimum] = \"───\"\n",
    "        estimation_map[maximum] = \"───\"\n",
    "        return estimation_map"
   ]
  },
  {
   "cell_type": "markdown",
   "id": "MOIgsBrWX6Zt",
   "metadata": {
    "id": "MOIgsBrWX6Zt"
   },
   "source": [
    "## 2.\tПобудова кореляційного поля."
   ]
  },
  {
   "cell_type": "code",
   "execution_count": 6,
   "id": "Ec2zz_TmYK-R",
   "metadata": {
    "colab": {
     "base_uri": "https://localhost:8080/",
     "height": 466
    },
    "executionInfo": {
     "elapsed": 843,
     "status": "ok",
     "timestamp": 1710946924864,
     "user": {
      "displayName": "Гудимов Денис",
      "userId": "03563364247437405013"
     },
     "user_tz": -120
    },
    "id": "Ec2zz_TmYK-R",
    "outputId": "567042fb-4c1d-45c3-9cf6-cb877ac4cdf6"
   },
   "outputs": [
    {
     "name": "stdout",
     "output_type": "stream",
     "text": [
      "Pirson Corelation: 0.4451062953312998\n"
     ]
    },
    {
     "data": {
      "image/png": "[encoded data removed]",
      "text/plain": [
       "<Figure size 640x480 with 1 Axes>"
      ]
     },
     "metadata": {},
     "output_type": "display_data"
    }
   ],
   "source": [
    "df.plot.scatter(x='x',y='y')\n",
    "correlation = pearson_correlation(df.loc[:,\"x\"], df.loc[:,\"y\"])\n",
    "print('Pirson Corelation: '+ str(correlation))"
   ]
  },
  {
   "cell_type": "markdown",
   "id": "0fz-VCeinBh7",
   "metadata": {
    "id": "0fz-VCeinBh7"
   },
   "source": [
    "# Test"
   ]
  },
  {
   "cell_type": "code",
   "execution_count": 8,
   "id": "vJg0a1w6nA3o",
   "metadata": {
    "colab": {
     "base_uri": "https://localhost:8080/",
     "height": 356
    },
    "executionInfo": {
     "elapsed": 381,
     "status": "error",
     "timestamp": 1710951822769,
     "user": {
      "displayName": "Гудимов Денис",
      "userId": "03563364247437405013"
     },
     "user_tz": -120
    },
    "id": "vJg0a1w6nA3o",
    "outputId": "9bff3f11-2518-4ab1-d923-4690d5a452ed"
   },
   "outputs": [
    {
     "name": "stdout",
     "output_type": "stream",
     "text": [
      "student_quantile: 1.650323668219721\n",
      "  Characteristic  Estimation     SEM 95% Confidence Interval\n",
      "0           Mean      9.9243  0.1663       [9.6499; 10.1987]\n",
      "1         Median     10.2286     ───       [9.8087; 10.6485]\n",
      "2            Std      2.8801  0.1176         [2.686; 3.0742]\n",
      "3       Skewness     -0.1256  0.1407       [-0.3578; 0.1066]\n",
      "4       Kurtosis     -0.0358  0.2805       [-0.4987; 0.4271]\n",
      "5            Min      1.3277     ───                     ───\n",
      "6            Max     17.8001     ───                     ───\n",
      "----------\n",
      "student_quantile: 1.650323668219721\n",
      "  Characteristic  Estimation     SEM 95% Confidence Interval\n",
      "0           Mean     29.9224  0.2906       [29.4428; 30.402]\n",
      "1         Median     30.2487     ───      [29.2215; 31.2759]\n",
      "2            Std      5.0335  0.2055        [4.6944; 5.3726]\n",
      "3       Skewness     -0.0523  0.1407       [-0.2845; 0.1799]\n",
      "4       Kurtosis     -0.3814  0.2805       [-0.8443; 0.0815]\n",
      "5            Min     16.6187     ───                     ───\n",
      "6            Max     43.3700     ───                     ───\n"
     ]
    }
   ],
   "source": [
    "q_c1 = QuantitativeCharacteristics(df['x'])\n",
    "q_c2 = QuantitativeCharacteristics(df['y'])\n",
    "res1= pd.DataFrame(q_c1.display())\n",
    "print(res1)\n",
    "print('----------')\n",
    "res2=  pd.DataFrame(q_c2.display())\n",
    "print(res2)"
   ]
  },
  {
   "cell_type": "code",
   "execution_count": null,
   "id": "9d030286-9e46-4422-adcf-44a6a818c01b",
   "metadata": {},
   "outputs": [],
   "source": []
  }
 ],
 "metadata": {
  "colab": {
   "provenance": []
  },
  "kernelspec": {
   "display_name": "Python 3 (ipykernel)",
   "language": "python",
   "name": "python3"
  },
  "language_info": {
   "codemirror_mode": {
    "name": "ipython",
    "version": 3
   },
   "file_extension": ".py",
   "mimetype": "text/x-python",
   "name": "python",
   "nbconvert_exporter": "python",
   "pygments_lexer": "ipython3",
   "version": "3.11.5"
  }
 },
 "nbformat": 4,
 "nbformat_minor": 5
}
